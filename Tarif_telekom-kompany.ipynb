{
 "cells": [
  {
   "cell_type": "markdown",
   "metadata": {},
   "source": [
    "Определение перспективного тарифа для телеком компании\n",
    "В ходе данного проекта мне предстоит сделать предварительный анализ тарифов на небольшой выборке клиентов. В моём распоряжении данные 500 пользователей «Мегалайна» за 2018 год.\n",
    "\n",
    "Описание тарифов:\n",
    "\n",
    "Тариф «Смарт»\n",
    "\n",
    "Ежемесячная плата: 550 рублей\n",
    "Включено 500 минут разговора, 50 сообщений и 15 Гб интернет-трафика\n",
    "Стоимость услуг сверх тарифного пакета:\n",
    "минута разговора: 3 рубля\n",
    "сообщение: 3 рубля\n",
    "1 Гб интернет-трафика: 200 рублей\n",
    "Тариф «Ультра»\n",
    "\n",
    "Ежемесячная плата: 1950 рублей\n",
    "Включено 3000 минут разговора, 1000 сообщений и 30 Гб интернет-трафика\n",
    "Стоимость услуг сверх тарифного пакета:\n",
    "минута разговора: 1 рубль\n",
    "сообщение: 1 рубль\n",
    "1 Гб интернет-трафика: 150 рублей\n",
    "\n",
    "Цель исследования:\n",
    "Описать поведение клиентов оператора, исходя из выборки. Определить сколько минут разговора, сколько сообщений и какой объём интернет-трафика требуется пользователям каждого тарифа в месяц. Посчитать среднее количество, дисперсию и стандартное отклонение для данных параметров. Построить гистограммы. Описать распределения.\n",
    "\n",
    "Проверить гипотезы:\n",
    "средняя выручка пользователей тарифов «Ультра» и «Смарт» различается.\n",
    "средняя выручка пользователей из Москвы отличается от выручки пользователей из других регионов.\n",
    "Написать общий вывод о проведённом анализе\n",
    "\n",
    "Информация о входных данных\n",
    "Таблица users (информация о пользователях):\n",
    "user_id — уникальный идентификатор пользователя\n",
    "first_name — имя пользователя\n",
    "last_name — фамилия пользователя\n",
    "age — возраст пользователя (годы)\n",
    "reg_date — дата подключения тарифа (день, месяц, год)\n",
    "churn_date — дата прекращения пользования тарифом (если значение пропущено, то тариф ещё действовал на момент выгрузки данных)\n",
    "city — город проживания пользователя\n",
    "tariff — название тарифного плана\n",
    "Таблица calls (информация о звонках):\n",
    "id — уникальный номер звонка\n",
    "call_date — дата звонка\n",
    "duration — длительность звонка в минутах\n",
    "user_id — идентификатор пользователя, сделавшего звонок\n",
    "Таблица messages (информация о сообщениях):\n",
    "id — уникальный номер сообщения\n",
    "message_date — дата сообщения\n",
    "user_id — идентификатор пользователя, отправившего сообщение\n",
    "Таблица internet (информация об интернет-сессиях):\n",
    "id — уникальный номер сессии\n",
    "mb_used — объём потраченного за сессию интернет-трафика (в мегабайтах)\n",
    "session_date — дата интернет-сессии\n",
    "user_id — идентификатор пользователя\n",
    "Таблица tariffs (информация о тарифах):\n",
    "tariff_name — название тарифа\n",
    "rub_monthly_fee — ежемесячная абонентская плата в рублях\n",
    "minutes_included — количество минут разговора в месяц, включённых в абонентскую плату\n",
    "messages_included — количество сообщений в месяц, включённых в абонентскую плату\n",
    "mb_per_month_included — объём интернет-трафика, включённого в абонентскую плату (в мегабайтах)\n",
    "rub_per_minute — стоимость минуты разговора сверх тарифного пакета (например, если в тарифе 100 минут разговора в месяц, то со 101 минуты будет взиматься плата)\n",
    "rub_per_message — стоимость отправки сообщения сверх тарифного пакета\n",
    "rub_per_gb — стоимость дополнительного гигабайта интернет-трафика сверх тарифного пакета (1 гигабайт = 1024 мегабайта"
   ]
  },
  {
   "cell_type": "markdown",
   "metadata": {},
   "source": [
    "Шаг 1. Изучение входных данных\n",
    "Импортирую библиотеку Pandas и с помощью метода .read_csv() создаю 5 DataFrame с данными из различных баз данных. Новые датафреймы назову следующими именами:\n",
    "\n",
    "data_calls - информация о звонках\n",
    "\n",
    "data_internet - информация об интернет-сессиях\n",
    "\n",
    "data_messages - информация о сообщениях\n",
    "\n",
    "data_tariffs - информация о тарифах\n",
    "\n",
    "data_users - информация о пользователях"
   ]
  },
  {
   "cell_type": "code",
   "execution_count": 1,
   "metadata": {},
   "outputs": [],
   "source": [
    "import pandas as pd   # Импортирую библиотеку Pandas\n",
    "import matplotlib.pyplot as plt # Импортирую библиотеку визуализации\n",
    "import numpy as np    # Импортирую библиотеку для математических вычислений\n",
    "from scipy import stats as st # Испортирую библиотеку для высокоуровневых математических вычислений\n",
    "\n",
    "ClrG = '\\033[32m'                # Инициализирую переменную для вывода текста зелёным цветом \n",
    "ClrDef = '\\033[0m'               # Инициализирую переменную для вывода текста с дефолтными настройками\n",
    "\n",
    "# Создаю функцию для получения основной информации о датафрейме\n",
    "def datainfo(dataframe):\n",
    "    display(dataframe.head(10))\n",
    "    display(dataframe.describe())\n",
    "    dataframe.info()\n",
    "\n",
    "# Создаю DataFrame с именем 'data_calls'\n",
    "data_calls = pd.read_csv('/datasets/calls.csv')\n",
    "# Создаю DataFrame с именем 'data_internet'\n",
    "data_internet = pd.read_csv('/datasets/internet.csv')\n",
    "# Создаю DataFrame с именем 'data_messages'\n",
    "data_messages = pd.read_csv('/datasets/messages.csv')\n",
    "# Создаю DataFrame с именем 'data_tariffs'\n",
    "data_tariffs = pd.read_csv('/datasets/tariffs.csv')\n",
    "# Создаю DataFrame с именем 'data_users'\n",
    "data_users = pd.read_csv('/datasets/users.csv')"
   ]
  },
  {
   "cell_type": "markdown",
   "metadata": {},
   "source": [
    "С помощью функции datainfo() получаю основную информацию о таблицах"
   ]
  },
  {
   "cell_type": "code",
   "execution_count": 2,
   "metadata": {
    "scrolled": false
   },
   "outputs": [
    {
     "data": {
      "text/html": [
       "<div>\n",
       "<style scoped>\n",
       "    .dataframe tbody tr th:only-of-type {\n",
       "        vertical-align: middle;\n",
       "    }\n",
       "\n",
       "    .dataframe tbody tr th {\n",
       "        vertical-align: top;\n",
       "    }\n",
       "\n",
       "    .dataframe thead th {\n",
       "        text-align: right;\n",
       "    }\n",
       "</style>\n",
       "<table border=\"1\" class=\"dataframe\">\n",
       "  <thead>\n",
       "    <tr style=\"text-align: right;\">\n",
       "      <th></th>\n",
       "      <th>id</th>\n",
       "      <th>call_date</th>\n",
       "      <th>duration</th>\n",
       "      <th>user_id</th>\n",
       "    </tr>\n",
       "  </thead>\n",
       "  <tbody>\n",
       "    <tr>\n",
       "      <td>0</td>\n",
       "      <td>1000_0</td>\n",
       "      <td>2018-07-25</td>\n",
       "      <td>0.00</td>\n",
       "      <td>1000</td>\n",
       "    </tr>\n",
       "    <tr>\n",
       "      <td>1</td>\n",
       "      <td>1000_1</td>\n",
       "      <td>2018-08-17</td>\n",
       "      <td>0.00</td>\n",
       "      <td>1000</td>\n",
       "    </tr>\n",
       "    <tr>\n",
       "      <td>2</td>\n",
       "      <td>1000_2</td>\n",
       "      <td>2018-06-11</td>\n",
       "      <td>2.85</td>\n",
       "      <td>1000</td>\n",
       "    </tr>\n",
       "    <tr>\n",
       "      <td>3</td>\n",
       "      <td>1000_3</td>\n",
       "      <td>2018-09-21</td>\n",
       "      <td>13.80</td>\n",
       "      <td>1000</td>\n",
       "    </tr>\n",
       "    <tr>\n",
       "      <td>4</td>\n",
       "      <td>1000_4</td>\n",
       "      <td>2018-12-15</td>\n",
       "      <td>5.18</td>\n",
       "      <td>1000</td>\n",
       "    </tr>\n",
       "    <tr>\n",
       "      <td>5</td>\n",
       "      <td>1000_5</td>\n",
       "      <td>2018-11-02</td>\n",
       "      <td>0.00</td>\n",
       "      <td>1000</td>\n",
       "    </tr>\n",
       "    <tr>\n",
       "      <td>6</td>\n",
       "      <td>1000_6</td>\n",
       "      <td>2018-10-18</td>\n",
       "      <td>0.00</td>\n",
       "      <td>1000</td>\n",
       "    </tr>\n",
       "    <tr>\n",
       "      <td>7</td>\n",
       "      <td>1000_7</td>\n",
       "      <td>2018-08-22</td>\n",
       "      <td>18.31</td>\n",
       "      <td>1000</td>\n",
       "    </tr>\n",
       "    <tr>\n",
       "      <td>8</td>\n",
       "      <td>1000_8</td>\n",
       "      <td>2018-09-15</td>\n",
       "      <td>18.44</td>\n",
       "      <td>1000</td>\n",
       "    </tr>\n",
       "    <tr>\n",
       "      <td>9</td>\n",
       "      <td>1000_9</td>\n",
       "      <td>2018-08-15</td>\n",
       "      <td>0.00</td>\n",
       "      <td>1000</td>\n",
       "    </tr>\n",
       "  </tbody>\n",
       "</table>\n",
       "</div>"
      ],
      "text/plain": [
       "       id   call_date  duration  user_id\n",
       "0  1000_0  2018-07-25      0.00     1000\n",
       "1  1000_1  2018-08-17      0.00     1000\n",
       "2  1000_2  2018-06-11      2.85     1000\n",
       "3  1000_3  2018-09-21     13.80     1000\n",
       "4  1000_4  2018-12-15      5.18     1000\n",
       "5  1000_5  2018-11-02      0.00     1000\n",
       "6  1000_6  2018-10-18      0.00     1000\n",
       "7  1000_7  2018-08-22     18.31     1000\n",
       "8  1000_8  2018-09-15     18.44     1000\n",
       "9  1000_9  2018-08-15      0.00     1000"
      ]
     },
     "metadata": {},
     "output_type": "display_data"
    },
    {
     "data": {
      "text/html": [
       "<div>\n",
       "<style scoped>\n",
       "    .dataframe tbody tr th:only-of-type {\n",
       "        vertical-align: middle;\n",
       "    }\n",
       "\n",
       "    .dataframe tbody tr th {\n",
       "        vertical-align: top;\n",
       "    }\n",
       "\n",
       "    .dataframe thead th {\n",
       "        text-align: right;\n",
       "    }\n",
       "</style>\n",
       "<table border=\"1\" class=\"dataframe\">\n",
       "  <thead>\n",
       "    <tr style=\"text-align: right;\">\n",
       "      <th></th>\n",
       "      <th>duration</th>\n",
       "      <th>user_id</th>\n",
       "    </tr>\n",
       "  </thead>\n",
       "  <tbody>\n",
       "    <tr>\n",
       "      <td>count</td>\n",
       "      <td>202607.000000</td>\n",
       "      <td>202607.000000</td>\n",
       "    </tr>\n",
       "    <tr>\n",
       "      <td>mean</td>\n",
       "      <td>6.755887</td>\n",
       "      <td>1253.940619</td>\n",
       "    </tr>\n",
       "    <tr>\n",
       "      <td>std</td>\n",
       "      <td>5.843365</td>\n",
       "      <td>144.722751</td>\n",
       "    </tr>\n",
       "    <tr>\n",
       "      <td>min</td>\n",
       "      <td>0.000000</td>\n",
       "      <td>1000.000000</td>\n",
       "    </tr>\n",
       "    <tr>\n",
       "      <td>25%</td>\n",
       "      <td>1.300000</td>\n",
       "      <td>1126.000000</td>\n",
       "    </tr>\n",
       "    <tr>\n",
       "      <td>50%</td>\n",
       "      <td>6.000000</td>\n",
       "      <td>1260.000000</td>\n",
       "    </tr>\n",
       "    <tr>\n",
       "      <td>75%</td>\n",
       "      <td>10.700000</td>\n",
       "      <td>1379.000000</td>\n",
       "    </tr>\n",
       "    <tr>\n",
       "      <td>max</td>\n",
       "      <td>38.000000</td>\n",
       "      <td>1499.000000</td>\n",
       "    </tr>\n",
       "  </tbody>\n",
       "</table>\n",
       "</div>"
      ],
      "text/plain": [
       "            duration        user_id\n",
       "count  202607.000000  202607.000000\n",
       "mean        6.755887    1253.940619\n",
       "std         5.843365     144.722751\n",
       "min         0.000000    1000.000000\n",
       "25%         1.300000    1126.000000\n",
       "50%         6.000000    1260.000000\n",
       "75%        10.700000    1379.000000\n",
       "max        38.000000    1499.000000"
      ]
     },
     "metadata": {},
     "output_type": "display_data"
    },
    {
     "name": "stdout",
     "output_type": "stream",
     "text": [
      "<class 'pandas.core.frame.DataFrame'>\n",
      "RangeIndex: 202607 entries, 0 to 202606\n",
      "Data columns (total 4 columns):\n",
      "id           202607 non-null object\n",
      "call_date    202607 non-null object\n",
      "duration     202607 non-null float64\n",
      "user_id      202607 non-null int64\n",
      "dtypes: float64(1), int64(1), object(2)\n",
      "memory usage: 6.2+ MB\n",
      "None\n",
      "\n"
     ]
    },
    {
     "data": {
      "text/html": [
       "<div>\n",
       "<style scoped>\n",
       "    .dataframe tbody tr th:only-of-type {\n",
       "        vertical-align: middle;\n",
       "    }\n",
       "\n",
       "    .dataframe tbody tr th {\n",
       "        vertical-align: top;\n",
       "    }\n",
       "\n",
       "    .dataframe thead th {\n",
       "        text-align: right;\n",
       "    }\n",
       "</style>\n",
       "<table border=\"1\" class=\"dataframe\">\n",
       "  <thead>\n",
       "    <tr style=\"text-align: right;\">\n",
       "      <th></th>\n",
       "      <th>Unnamed: 0</th>\n",
       "      <th>id</th>\n",
       "      <th>mb_used</th>\n",
       "      <th>session_date</th>\n",
       "      <th>user_id</th>\n",
       "    </tr>\n",
       "  </thead>\n",
       "  <tbody>\n",
       "    <tr>\n",
       "      <td>0</td>\n",
       "      <td>0</td>\n",
       "      <td>1000_0</td>\n",
       "      <td>112.95</td>\n",
       "      <td>2018-11-25</td>\n",
       "      <td>1000</td>\n",
       "    </tr>\n",
       "    <tr>\n",
       "      <td>1</td>\n",
       "      <td>1</td>\n",
       "      <td>1000_1</td>\n",
       "      <td>1052.81</td>\n",
       "      <td>2018-09-07</td>\n",
       "      <td>1000</td>\n",
       "    </tr>\n",
       "    <tr>\n",
       "      <td>2</td>\n",
       "      <td>2</td>\n",
       "      <td>1000_2</td>\n",
       "      <td>1197.26</td>\n",
       "      <td>2018-06-25</td>\n",
       "      <td>1000</td>\n",
       "    </tr>\n",
       "    <tr>\n",
       "      <td>3</td>\n",
       "      <td>3</td>\n",
       "      <td>1000_3</td>\n",
       "      <td>550.27</td>\n",
       "      <td>2018-08-22</td>\n",
       "      <td>1000</td>\n",
       "    </tr>\n",
       "    <tr>\n",
       "      <td>4</td>\n",
       "      <td>4</td>\n",
       "      <td>1000_4</td>\n",
       "      <td>302.56</td>\n",
       "      <td>2018-09-24</td>\n",
       "      <td>1000</td>\n",
       "    </tr>\n",
       "    <tr>\n",
       "      <td>5</td>\n",
       "      <td>5</td>\n",
       "      <td>1000_5</td>\n",
       "      <td>399.97</td>\n",
       "      <td>2018-10-02</td>\n",
       "      <td>1000</td>\n",
       "    </tr>\n",
       "    <tr>\n",
       "      <td>6</td>\n",
       "      <td>6</td>\n",
       "      <td>1000_6</td>\n",
       "      <td>540.08</td>\n",
       "      <td>2018-09-07</td>\n",
       "      <td>1000</td>\n",
       "    </tr>\n",
       "    <tr>\n",
       "      <td>7</td>\n",
       "      <td>7</td>\n",
       "      <td>1000_7</td>\n",
       "      <td>415.70</td>\n",
       "      <td>2018-07-11</td>\n",
       "      <td>1000</td>\n",
       "    </tr>\n",
       "    <tr>\n",
       "      <td>8</td>\n",
       "      <td>8</td>\n",
       "      <td>1000_8</td>\n",
       "      <td>505.40</td>\n",
       "      <td>2018-10-08</td>\n",
       "      <td>1000</td>\n",
       "    </tr>\n",
       "    <tr>\n",
       "      <td>9</td>\n",
       "      <td>9</td>\n",
       "      <td>1000_9</td>\n",
       "      <td>345.54</td>\n",
       "      <td>2018-09-03</td>\n",
       "      <td>1000</td>\n",
       "    </tr>\n",
       "  </tbody>\n",
       "</table>\n",
       "</div>"
      ],
      "text/plain": [
       "   Unnamed: 0      id  mb_used session_date  user_id\n",
       "0           0  1000_0   112.95   2018-11-25     1000\n",
       "1           1  1000_1  1052.81   2018-09-07     1000\n",
       "2           2  1000_2  1197.26   2018-06-25     1000\n",
       "3           3  1000_3   550.27   2018-08-22     1000\n",
       "4           4  1000_4   302.56   2018-09-24     1000\n",
       "5           5  1000_5   399.97   2018-10-02     1000\n",
       "6           6  1000_6   540.08   2018-09-07     1000\n",
       "7           7  1000_7   415.70   2018-07-11     1000\n",
       "8           8  1000_8   505.40   2018-10-08     1000\n",
       "9           9  1000_9   345.54   2018-09-03     1000"
      ]
     },
     "metadata": {},
     "output_type": "display_data"
    },
    {
     "data": {
      "text/html": [
       "<div>\n",
       "<style scoped>\n",
       "    .dataframe tbody tr th:only-of-type {\n",
       "        vertical-align: middle;\n",
       "    }\n",
       "\n",
       "    .dataframe tbody tr th {\n",
       "        vertical-align: top;\n",
       "    }\n",
       "\n",
       "    .dataframe thead th {\n",
       "        text-align: right;\n",
       "    }\n",
       "</style>\n",
       "<table border=\"1\" class=\"dataframe\">\n",
       "  <thead>\n",
       "    <tr style=\"text-align: right;\">\n",
       "      <th></th>\n",
       "      <th>Unnamed: 0</th>\n",
       "      <th>mb_used</th>\n",
       "      <th>user_id</th>\n",
       "    </tr>\n",
       "  </thead>\n",
       "  <tbody>\n",
       "    <tr>\n",
       "      <td>count</td>\n",
       "      <td>149396.000000</td>\n",
       "      <td>149396.000000</td>\n",
       "      <td>149396.000000</td>\n",
       "    </tr>\n",
       "    <tr>\n",
       "      <td>mean</td>\n",
       "      <td>74697.500000</td>\n",
       "      <td>370.192426</td>\n",
       "      <td>1252.099842</td>\n",
       "    </tr>\n",
       "    <tr>\n",
       "      <td>std</td>\n",
       "      <td>43127.054745</td>\n",
       "      <td>278.300951</td>\n",
       "      <td>144.050823</td>\n",
       "    </tr>\n",
       "    <tr>\n",
       "      <td>min</td>\n",
       "      <td>0.000000</td>\n",
       "      <td>0.000000</td>\n",
       "      <td>1000.000000</td>\n",
       "    </tr>\n",
       "    <tr>\n",
       "      <td>25%</td>\n",
       "      <td>37348.750000</td>\n",
       "      <td>138.187500</td>\n",
       "      <td>1130.000000</td>\n",
       "    </tr>\n",
       "    <tr>\n",
       "      <td>50%</td>\n",
       "      <td>74697.500000</td>\n",
       "      <td>348.015000</td>\n",
       "      <td>1251.000000</td>\n",
       "    </tr>\n",
       "    <tr>\n",
       "      <td>75%</td>\n",
       "      <td>112046.250000</td>\n",
       "      <td>559.552500</td>\n",
       "      <td>1380.000000</td>\n",
       "    </tr>\n",
       "    <tr>\n",
       "      <td>max</td>\n",
       "      <td>149395.000000</td>\n",
       "      <td>1724.830000</td>\n",
       "      <td>1499.000000</td>\n",
       "    </tr>\n",
       "  </tbody>\n",
       "</table>\n",
       "</div>"
      ],
      "text/plain": [
       "          Unnamed: 0        mb_used        user_id\n",
       "count  149396.000000  149396.000000  149396.000000\n",
       "mean    74697.500000     370.192426    1252.099842\n",
       "std     43127.054745     278.300951     144.050823\n",
       "min         0.000000       0.000000    1000.000000\n",
       "25%     37348.750000     138.187500    1130.000000\n",
       "50%     74697.500000     348.015000    1251.000000\n",
       "75%    112046.250000     559.552500    1380.000000\n",
       "max    149395.000000    1724.830000    1499.000000"
      ]
     },
     "metadata": {},
     "output_type": "display_data"
    },
    {
     "name": "stdout",
     "output_type": "stream",
     "text": [
      "<class 'pandas.core.frame.DataFrame'>\n",
      "RangeIndex: 149396 entries, 0 to 149395\n",
      "Data columns (total 5 columns):\n",
      "Unnamed: 0      149396 non-null int64\n",
      "id              149396 non-null object\n",
      "mb_used         149396 non-null float64\n",
      "session_date    149396 non-null object\n",
      "user_id         149396 non-null int64\n",
      "dtypes: float64(1), int64(2), object(2)\n",
      "memory usage: 5.7+ MB\n",
      "None\n",
      "\n"
     ]
    },
    {
     "data": {
      "text/html": [
       "<div>\n",
       "<style scoped>\n",
       "    .dataframe tbody tr th:only-of-type {\n",
       "        vertical-align: middle;\n",
       "    }\n",
       "\n",
       "    .dataframe tbody tr th {\n",
       "        vertical-align: top;\n",
       "    }\n",
       "\n",
       "    .dataframe thead th {\n",
       "        text-align: right;\n",
       "    }\n",
       "</style>\n",
       "<table border=\"1\" class=\"dataframe\">\n",
       "  <thead>\n",
       "    <tr style=\"text-align: right;\">\n",
       "      <th></th>\n",
       "      <th>id</th>\n",
       "      <th>message_date</th>\n",
       "      <th>user_id</th>\n",
       "    </tr>\n",
       "  </thead>\n",
       "  <tbody>\n",
       "    <tr>\n",
       "      <td>0</td>\n",
       "      <td>1000_0</td>\n",
       "      <td>2018-06-27</td>\n",
       "      <td>1000</td>\n",
       "    </tr>\n",
       "    <tr>\n",
       "      <td>1</td>\n",
       "      <td>1000_1</td>\n",
       "      <td>2018-10-08</td>\n",
       "      <td>1000</td>\n",
       "    </tr>\n",
       "    <tr>\n",
       "      <td>2</td>\n",
       "      <td>1000_2</td>\n",
       "      <td>2018-08-04</td>\n",
       "      <td>1000</td>\n",
       "    </tr>\n",
       "    <tr>\n",
       "      <td>3</td>\n",
       "      <td>1000_3</td>\n",
       "      <td>2018-06-16</td>\n",
       "      <td>1000</td>\n",
       "    </tr>\n",
       "    <tr>\n",
       "      <td>4</td>\n",
       "      <td>1000_4</td>\n",
       "      <td>2018-12-05</td>\n",
       "      <td>1000</td>\n",
       "    </tr>\n",
       "    <tr>\n",
       "      <td>5</td>\n",
       "      <td>1000_5</td>\n",
       "      <td>2018-06-20</td>\n",
       "      <td>1000</td>\n",
       "    </tr>\n",
       "    <tr>\n",
       "      <td>6</td>\n",
       "      <td>1000_6</td>\n",
       "      <td>2018-11-19</td>\n",
       "      <td>1000</td>\n",
       "    </tr>\n",
       "    <tr>\n",
       "      <td>7</td>\n",
       "      <td>1000_7</td>\n",
       "      <td>2018-10-29</td>\n",
       "      <td>1000</td>\n",
       "    </tr>\n",
       "    <tr>\n",
       "      <td>8</td>\n",
       "      <td>1000_8</td>\n",
       "      <td>2018-06-25</td>\n",
       "      <td>1000</td>\n",
       "    </tr>\n",
       "    <tr>\n",
       "      <td>9</td>\n",
       "      <td>1000_9</td>\n",
       "      <td>2018-12-18</td>\n",
       "      <td>1000</td>\n",
       "    </tr>\n",
       "  </tbody>\n",
       "</table>\n",
       "</div>"
      ],
      "text/plain": [
       "       id message_date  user_id\n",
       "0  1000_0   2018-06-27     1000\n",
       "1  1000_1   2018-10-08     1000\n",
       "2  1000_2   2018-08-04     1000\n",
       "3  1000_3   2018-06-16     1000\n",
       "4  1000_4   2018-12-05     1000\n",
       "5  1000_5   2018-06-20     1000\n",
       "6  1000_6   2018-11-19     1000\n",
       "7  1000_7   2018-10-29     1000\n",
       "8  1000_8   2018-06-25     1000\n",
       "9  1000_9   2018-12-18     1000"
      ]
     },
     "metadata": {},
     "output_type": "display_data"
    },
    {
     "data": {
      "text/html": [
       "<div>\n",
       "<style scoped>\n",
       "    .dataframe tbody tr th:only-of-type {\n",
       "        vertical-align: middle;\n",
       "    }\n",
       "\n",
       "    .dataframe tbody tr th {\n",
       "        vertical-align: top;\n",
       "    }\n",
       "\n",
       "    .dataframe thead th {\n",
       "        text-align: right;\n",
       "    }\n",
       "</style>\n",
       "<table border=\"1\" class=\"dataframe\">\n",
       "  <thead>\n",
       "    <tr style=\"text-align: right;\">\n",
       "      <th></th>\n",
       "      <th>user_id</th>\n",
       "    </tr>\n",
       "  </thead>\n",
       "  <tbody>\n",
       "    <tr>\n",
       "      <td>count</td>\n",
       "      <td>123036.000000</td>\n",
       "    </tr>\n",
       "    <tr>\n",
       "      <td>mean</td>\n",
       "      <td>1256.989410</td>\n",
       "    </tr>\n",
       "    <tr>\n",
       "      <td>std</td>\n",
       "      <td>143.523967</td>\n",
       "    </tr>\n",
       "    <tr>\n",
       "      <td>min</td>\n",
       "      <td>1000.000000</td>\n",
       "    </tr>\n",
       "    <tr>\n",
       "      <td>25%</td>\n",
       "      <td>1134.000000</td>\n",
       "    </tr>\n",
       "    <tr>\n",
       "      <td>50%</td>\n",
       "      <td>1271.000000</td>\n",
       "    </tr>\n",
       "    <tr>\n",
       "      <td>75%</td>\n",
       "      <td>1381.000000</td>\n",
       "    </tr>\n",
       "    <tr>\n",
       "      <td>max</td>\n",
       "      <td>1499.000000</td>\n",
       "    </tr>\n",
       "  </tbody>\n",
       "</table>\n",
       "</div>"
      ],
      "text/plain": [
       "             user_id\n",
       "count  123036.000000\n",
       "mean     1256.989410\n",
       "std       143.523967\n",
       "min      1000.000000\n",
       "25%      1134.000000\n",
       "50%      1271.000000\n",
       "75%      1381.000000\n",
       "max      1499.000000"
      ]
     },
     "metadata": {},
     "output_type": "display_data"
    },
    {
     "name": "stdout",
     "output_type": "stream",
     "text": [
      "<class 'pandas.core.frame.DataFrame'>\n",
      "RangeIndex: 123036 entries, 0 to 123035\n",
      "Data columns (total 3 columns):\n",
      "id              123036 non-null object\n",
      "message_date    123036 non-null object\n",
      "user_id         123036 non-null int64\n",
      "dtypes: int64(1), object(2)\n",
      "memory usage: 2.8+ MB\n",
      "None\n",
      "\n"
     ]
    },
    {
     "data": {
      "text/html": [
       "<div>\n",
       "<style scoped>\n",
       "    .dataframe tbody tr th:only-of-type {\n",
       "        vertical-align: middle;\n",
       "    }\n",
       "\n",
       "    .dataframe tbody tr th {\n",
       "        vertical-align: top;\n",
       "    }\n",
       "\n",
       "    .dataframe thead th {\n",
       "        text-align: right;\n",
       "    }\n",
       "</style>\n",
       "<table border=\"1\" class=\"dataframe\">\n",
       "  <thead>\n",
       "    <tr style=\"text-align: right;\">\n",
       "      <th></th>\n",
       "      <th>messages_included</th>\n",
       "      <th>mb_per_month_included</th>\n",
       "      <th>minutes_included</th>\n",
       "      <th>rub_monthly_fee</th>\n",
       "      <th>rub_per_gb</th>\n",
       "      <th>rub_per_message</th>\n",
       "      <th>rub_per_minute</th>\n",
       "      <th>tariff_name</th>\n",
       "    </tr>\n",
       "  </thead>\n",
       "  <tbody>\n",
       "    <tr>\n",
       "      <td>0</td>\n",
       "      <td>50</td>\n",
       "      <td>15360</td>\n",
       "      <td>500</td>\n",
       "      <td>550</td>\n",
       "      <td>200</td>\n",
       "      <td>3</td>\n",
       "      <td>3</td>\n",
       "      <td>smart</td>\n",
       "    </tr>\n",
       "    <tr>\n",
       "      <td>1</td>\n",
       "      <td>1000</td>\n",
       "      <td>30720</td>\n",
       "      <td>3000</td>\n",
       "      <td>1950</td>\n",
       "      <td>150</td>\n",
       "      <td>1</td>\n",
       "      <td>1</td>\n",
       "      <td>ultra</td>\n",
       "    </tr>\n",
       "  </tbody>\n",
       "</table>\n",
       "</div>"
      ],
      "text/plain": [
       "   messages_included  mb_per_month_included  minutes_included  \\\n",
       "0                 50                  15360               500   \n",
       "1               1000                  30720              3000   \n",
       "\n",
       "   rub_monthly_fee  rub_per_gb  rub_per_message  rub_per_minute tariff_name  \n",
       "0              550         200                3               3       smart  \n",
       "1             1950         150                1               1       ultra  "
      ]
     },
     "metadata": {},
     "output_type": "display_data"
    },
    {
     "data": {
      "text/html": [
       "<div>\n",
       "<style scoped>\n",
       "    .dataframe tbody tr th:only-of-type {\n",
       "        vertical-align: middle;\n",
       "    }\n",
       "\n",
       "    .dataframe tbody tr th {\n",
       "        vertical-align: top;\n",
       "    }\n",
       "\n",
       "    .dataframe thead th {\n",
       "        text-align: right;\n",
       "    }\n",
       "</style>\n",
       "<table border=\"1\" class=\"dataframe\">\n",
       "  <thead>\n",
       "    <tr style=\"text-align: right;\">\n",
       "      <th></th>\n",
       "      <th>messages_included</th>\n",
       "      <th>mb_per_month_included</th>\n",
       "      <th>minutes_included</th>\n",
       "      <th>rub_monthly_fee</th>\n",
       "      <th>rub_per_gb</th>\n",
       "      <th>rub_per_message</th>\n",
       "      <th>rub_per_minute</th>\n",
       "    </tr>\n",
       "  </thead>\n",
       "  <tbody>\n",
       "    <tr>\n",
       "      <td>count</td>\n",
       "      <td>2.000000</td>\n",
       "      <td>2.000000</td>\n",
       "      <td>2.000000</td>\n",
       "      <td>2.000000</td>\n",
       "      <td>2.000000</td>\n",
       "      <td>2.000000</td>\n",
       "      <td>2.000000</td>\n",
       "    </tr>\n",
       "    <tr>\n",
       "      <td>mean</td>\n",
       "      <td>525.000000</td>\n",
       "      <td>23040.000000</td>\n",
       "      <td>1750.000000</td>\n",
       "      <td>1250.000000</td>\n",
       "      <td>175.000000</td>\n",
       "      <td>2.000000</td>\n",
       "      <td>2.000000</td>\n",
       "    </tr>\n",
       "    <tr>\n",
       "      <td>std</td>\n",
       "      <td>671.751442</td>\n",
       "      <td>10861.160159</td>\n",
       "      <td>1767.766953</td>\n",
       "      <td>989.949494</td>\n",
       "      <td>35.355339</td>\n",
       "      <td>1.414214</td>\n",
       "      <td>1.414214</td>\n",
       "    </tr>\n",
       "    <tr>\n",
       "      <td>min</td>\n",
       "      <td>50.000000</td>\n",
       "      <td>15360.000000</td>\n",
       "      <td>500.000000</td>\n",
       "      <td>550.000000</td>\n",
       "      <td>150.000000</td>\n",
       "      <td>1.000000</td>\n",
       "      <td>1.000000</td>\n",
       "    </tr>\n",
       "    <tr>\n",
       "      <td>25%</td>\n",
       "      <td>287.500000</td>\n",
       "      <td>19200.000000</td>\n",
       "      <td>1125.000000</td>\n",
       "      <td>900.000000</td>\n",
       "      <td>162.500000</td>\n",
       "      <td>1.500000</td>\n",
       "      <td>1.500000</td>\n",
       "    </tr>\n",
       "    <tr>\n",
       "      <td>50%</td>\n",
       "      <td>525.000000</td>\n",
       "      <td>23040.000000</td>\n",
       "      <td>1750.000000</td>\n",
       "      <td>1250.000000</td>\n",
       "      <td>175.000000</td>\n",
       "      <td>2.000000</td>\n",
       "      <td>2.000000</td>\n",
       "    </tr>\n",
       "    <tr>\n",
       "      <td>75%</td>\n",
       "      <td>762.500000</td>\n",
       "      <td>26880.000000</td>\n",
       "      <td>2375.000000</td>\n",
       "      <td>1600.000000</td>\n",
       "      <td>187.500000</td>\n",
       "      <td>2.500000</td>\n",
       "      <td>2.500000</td>\n",
       "    </tr>\n",
       "    <tr>\n",
       "      <td>max</td>\n",
       "      <td>1000.000000</td>\n",
       "      <td>30720.000000</td>\n",
       "      <td>3000.000000</td>\n",
       "      <td>1950.000000</td>\n",
       "      <td>200.000000</td>\n",
       "      <td>3.000000</td>\n",
       "      <td>3.000000</td>\n",
       "    </tr>\n",
       "  </tbody>\n",
       "</table>\n",
       "</div>"
      ],
      "text/plain": [
       "       messages_included  mb_per_month_included  minutes_included  \\\n",
       "count           2.000000               2.000000          2.000000   \n",
       "mean          525.000000           23040.000000       1750.000000   \n",
       "std           671.751442           10861.160159       1767.766953   \n",
       "min            50.000000           15360.000000        500.000000   \n",
       "25%           287.500000           19200.000000       1125.000000   \n",
       "50%           525.000000           23040.000000       1750.000000   \n",
       "75%           762.500000           26880.000000       2375.000000   \n",
       "max          1000.000000           30720.000000       3000.000000   \n",
       "\n",
       "       rub_monthly_fee  rub_per_gb  rub_per_message  rub_per_minute  \n",
       "count         2.000000    2.000000         2.000000        2.000000  \n",
       "mean       1250.000000  175.000000         2.000000        2.000000  \n",
       "std         989.949494   35.355339         1.414214        1.414214  \n",
       "min         550.000000  150.000000         1.000000        1.000000  \n",
       "25%         900.000000  162.500000         1.500000        1.500000  \n",
       "50%        1250.000000  175.000000         2.000000        2.000000  \n",
       "75%        1600.000000  187.500000         2.500000        2.500000  \n",
       "max        1950.000000  200.000000         3.000000        3.000000  "
      ]
     },
     "metadata": {},
     "output_type": "display_data"
    },
    {
     "name": "stdout",
     "output_type": "stream",
     "text": [
      "<class 'pandas.core.frame.DataFrame'>\n",
      "RangeIndex: 2 entries, 0 to 1\n",
      "Data columns (total 8 columns):\n",
      "messages_included        2 non-null int64\n",
      "mb_per_month_included    2 non-null int64\n",
      "minutes_included         2 non-null int64\n",
      "rub_monthly_fee          2 non-null int64\n",
      "rub_per_gb               2 non-null int64\n",
      "rub_per_message          2 non-null int64\n",
      "rub_per_minute           2 non-null int64\n",
      "tariff_name              2 non-null object\n",
      "dtypes: int64(7), object(1)\n",
      "memory usage: 256.0+ bytes\n",
      "None\n",
      "\n"
     ]
    },
    {
     "data": {
      "text/html": [
       "<div>\n",
       "<style scoped>\n",
       "    .dataframe tbody tr th:only-of-type {\n",
       "        vertical-align: middle;\n",
       "    }\n",
       "\n",
       "    .dataframe tbody tr th {\n",
       "        vertical-align: top;\n",
       "    }\n",
       "\n",
       "    .dataframe thead th {\n",
       "        text-align: right;\n",
       "    }\n",
       "</style>\n",
       "<table border=\"1\" class=\"dataframe\">\n",
       "  <thead>\n",
       "    <tr style=\"text-align: right;\">\n",
       "      <th></th>\n",
       "      <th>user_id</th>\n",
       "      <th>age</th>\n",
       "      <th>churn_date</th>\n",
       "      <th>city</th>\n",
       "      <th>first_name</th>\n",
       "      <th>last_name</th>\n",
       "      <th>reg_date</th>\n",
       "      <th>tariff</th>\n",
       "    </tr>\n",
       "  </thead>\n",
       "  <tbody>\n",
       "    <tr>\n",
       "      <td>0</td>\n",
       "      <td>1000</td>\n",
       "      <td>52</td>\n",
       "      <td>NaN</td>\n",
       "      <td>Краснодар</td>\n",
       "      <td>Рафаил</td>\n",
       "      <td>Верещагин</td>\n",
       "      <td>2018-05-25</td>\n",
       "      <td>ultra</td>\n",
       "    </tr>\n",
       "    <tr>\n",
       "      <td>1</td>\n",
       "      <td>1001</td>\n",
       "      <td>41</td>\n",
       "      <td>NaN</td>\n",
       "      <td>Москва</td>\n",
       "      <td>Иван</td>\n",
       "      <td>Ежов</td>\n",
       "      <td>2018-11-01</td>\n",
       "      <td>smart</td>\n",
       "    </tr>\n",
       "    <tr>\n",
       "      <td>2</td>\n",
       "      <td>1002</td>\n",
       "      <td>59</td>\n",
       "      <td>NaN</td>\n",
       "      <td>Стерлитамак</td>\n",
       "      <td>Евгений</td>\n",
       "      <td>Абрамович</td>\n",
       "      <td>2018-06-17</td>\n",
       "      <td>smart</td>\n",
       "    </tr>\n",
       "    <tr>\n",
       "      <td>3</td>\n",
       "      <td>1003</td>\n",
       "      <td>23</td>\n",
       "      <td>NaN</td>\n",
       "      <td>Москва</td>\n",
       "      <td>Белла</td>\n",
       "      <td>Белякова</td>\n",
       "      <td>2018-08-17</td>\n",
       "      <td>ultra</td>\n",
       "    </tr>\n",
       "    <tr>\n",
       "      <td>4</td>\n",
       "      <td>1004</td>\n",
       "      <td>68</td>\n",
       "      <td>NaN</td>\n",
       "      <td>Новокузнецк</td>\n",
       "      <td>Татьяна</td>\n",
       "      <td>Авдеенко</td>\n",
       "      <td>2018-05-14</td>\n",
       "      <td>ultra</td>\n",
       "    </tr>\n",
       "    <tr>\n",
       "      <td>5</td>\n",
       "      <td>1005</td>\n",
       "      <td>67</td>\n",
       "      <td>NaN</td>\n",
       "      <td>Набережные Челны</td>\n",
       "      <td>Афанасий</td>\n",
       "      <td>Горлов</td>\n",
       "      <td>2018-01-25</td>\n",
       "      <td>smart</td>\n",
       "    </tr>\n",
       "    <tr>\n",
       "      <td>6</td>\n",
       "      <td>1006</td>\n",
       "      <td>21</td>\n",
       "      <td>NaN</td>\n",
       "      <td>Ульяновск</td>\n",
       "      <td>Леонид</td>\n",
       "      <td>Ермолаев</td>\n",
       "      <td>2018-02-26</td>\n",
       "      <td>smart</td>\n",
       "    </tr>\n",
       "    <tr>\n",
       "      <td>7</td>\n",
       "      <td>1007</td>\n",
       "      <td>65</td>\n",
       "      <td>NaN</td>\n",
       "      <td>Москва</td>\n",
       "      <td>Юна</td>\n",
       "      <td>Березина</td>\n",
       "      <td>2018-04-19</td>\n",
       "      <td>smart</td>\n",
       "    </tr>\n",
       "    <tr>\n",
       "      <td>8</td>\n",
       "      <td>1008</td>\n",
       "      <td>63</td>\n",
       "      <td>NaN</td>\n",
       "      <td>Челябинск</td>\n",
       "      <td>Рустэм</td>\n",
       "      <td>Пономарёв</td>\n",
       "      <td>2018-12-19</td>\n",
       "      <td>smart</td>\n",
       "    </tr>\n",
       "    <tr>\n",
       "      <td>9</td>\n",
       "      <td>1009</td>\n",
       "      <td>24</td>\n",
       "      <td>NaN</td>\n",
       "      <td>Пермь</td>\n",
       "      <td>Василиса</td>\n",
       "      <td>Блинова</td>\n",
       "      <td>2018-03-22</td>\n",
       "      <td>smart</td>\n",
       "    </tr>\n",
       "  </tbody>\n",
       "</table>\n",
       "</div>"
      ],
      "text/plain": [
       "   user_id  age churn_date              city first_name  last_name  \\\n",
       "0     1000   52        NaN         Краснодар     Рафаил  Верещагин   \n",
       "1     1001   41        NaN            Москва       Иван       Ежов   \n",
       "2     1002   59        NaN       Стерлитамак    Евгений  Абрамович   \n",
       "3     1003   23        NaN            Москва      Белла   Белякова   \n",
       "4     1004   68        NaN       Новокузнецк    Татьяна   Авдеенко   \n",
       "5     1005   67        NaN  Набережные Челны   Афанасий     Горлов   \n",
       "6     1006   21        NaN         Ульяновск     Леонид   Ермолаев   \n",
       "7     1007   65        NaN            Москва        Юна   Березина   \n",
       "8     1008   63        NaN         Челябинск     Рустэм  Пономарёв   \n",
       "9     1009   24        NaN             Пермь   Василиса    Блинова   \n",
       "\n",
       "     reg_date tariff  \n",
       "0  2018-05-25  ultra  \n",
       "1  2018-11-01  smart  \n",
       "2  2018-06-17  smart  \n",
       "3  2018-08-17  ultra  \n",
       "4  2018-05-14  ultra  \n",
       "5  2018-01-25  smart  \n",
       "6  2018-02-26  smart  \n",
       "7  2018-04-19  smart  \n",
       "8  2018-12-19  smart  \n",
       "9  2018-03-22  smart  "
      ]
     },
     "metadata": {},
     "output_type": "display_data"
    },
    {
     "data": {
      "text/html": [
       "<div>\n",
       "<style scoped>\n",
       "    .dataframe tbody tr th:only-of-type {\n",
       "        vertical-align: middle;\n",
       "    }\n",
       "\n",
       "    .dataframe tbody tr th {\n",
       "        vertical-align: top;\n",
       "    }\n",
       "\n",
       "    .dataframe thead th {\n",
       "        text-align: right;\n",
       "    }\n",
       "</style>\n",
       "<table border=\"1\" class=\"dataframe\">\n",
       "  <thead>\n",
       "    <tr style=\"text-align: right;\">\n",
       "      <th></th>\n",
       "      <th>user_id</th>\n",
       "      <th>age</th>\n",
       "    </tr>\n",
       "  </thead>\n",
       "  <tbody>\n",
       "    <tr>\n",
       "      <td>count</td>\n",
       "      <td>500.000000</td>\n",
       "      <td>500.00000</td>\n",
       "    </tr>\n",
       "    <tr>\n",
       "      <td>mean</td>\n",
       "      <td>1249.500000</td>\n",
       "      <td>46.58800</td>\n",
       "    </tr>\n",
       "    <tr>\n",
       "      <td>std</td>\n",
       "      <td>144.481833</td>\n",
       "      <td>16.66763</td>\n",
       "    </tr>\n",
       "    <tr>\n",
       "      <td>min</td>\n",
       "      <td>1000.000000</td>\n",
       "      <td>18.00000</td>\n",
       "    </tr>\n",
       "    <tr>\n",
       "      <td>25%</td>\n",
       "      <td>1124.750000</td>\n",
       "      <td>32.00000</td>\n",
       "    </tr>\n",
       "    <tr>\n",
       "      <td>50%</td>\n",
       "      <td>1249.500000</td>\n",
       "      <td>46.00000</td>\n",
       "    </tr>\n",
       "    <tr>\n",
       "      <td>75%</td>\n",
       "      <td>1374.250000</td>\n",
       "      <td>62.00000</td>\n",
       "    </tr>\n",
       "    <tr>\n",
       "      <td>max</td>\n",
       "      <td>1499.000000</td>\n",
       "      <td>75.00000</td>\n",
       "    </tr>\n",
       "  </tbody>\n",
       "</table>\n",
       "</div>"
      ],
      "text/plain": [
       "           user_id        age\n",
       "count   500.000000  500.00000\n",
       "mean   1249.500000   46.58800\n",
       "std     144.481833   16.66763\n",
       "min    1000.000000   18.00000\n",
       "25%    1124.750000   32.00000\n",
       "50%    1249.500000   46.00000\n",
       "75%    1374.250000   62.00000\n",
       "max    1499.000000   75.00000"
      ]
     },
     "metadata": {},
     "output_type": "display_data"
    },
    {
     "name": "stdout",
     "output_type": "stream",
     "text": [
      "<class 'pandas.core.frame.DataFrame'>\n",
      "RangeIndex: 500 entries, 0 to 499\n",
      "Data columns (total 8 columns):\n",
      "user_id       500 non-null int64\n",
      "age           500 non-null int64\n",
      "churn_date    38 non-null object\n",
      "city          500 non-null object\n",
      "first_name    500 non-null object\n",
      "last_name     500 non-null object\n",
      "reg_date      500 non-null object\n",
      "tariff        500 non-null object\n",
      "dtypes: int64(2), object(6)\n",
      "memory usage: 31.4+ KB\n",
      "None\n",
      "\n"
     ]
    }
   ],
   "source": [
    "# Создаю список с названиями всех датафреймов\n",
    "dataframe_list = [data_calls, data_internet, data_messages, data_tariffs, data_users]\n",
    "for x in dataframe_list: # Применяю метод .info() ко всем датафреймам по очереди\n",
    "    print(datainfo(x))   # Применяю метод .info()\n",
    "    print('')            # Пустая строка для удобства чтения результатов вывода"
   ]
  },
  {
   "cell_type": "markdown",
   "metadata": {},
   "source": [
    "Получаю следующую структуру таблиц:\n",
    "\n",
    "data_calls \n",
    "\n",
    "Количество столбцов: 4 \n",
    "\n",
    "Количество строк: 202607 \n",
    "\n",
    "Тип данных в столбцах: float64(1), int64(1), object(2) \n",
    "\n",
    "data_internet \n",
    "\n",
    "Количество столбцов: 5 \n",
    "\n",
    "Количество строк: 149396 \n",
    "\n",
    "Тип данных в столбцах: float64(1), int64(2), object(2) \n",
    "\n",
    "data_messages \n",
    "\n",
    "Количество столбцов: 3 \n",
    "\n",
    "Количество строк: 123036 \n",
    "\n",
    "Тип данных в столбцах: int64(1), object(2) \n",
    "\n",
    "data_tariffs \n",
    "\n",
    "Количество столбцов: 8 \n",
    "\n",
    "Количество строк: 2 \n",
    "\n",
    "Тип данных в столбцах: int64(7), object(1) \n",
    "\n",
    "data_users \n",
    "\n",
    "Количество столбцов: 8 \n",
    "\n",
    "Количество строк: 500 \n",
    "\n",
    "Тип данных в столбцах: int64(2), object(6) "
   ]
  },
  {
   "cell_type": "markdown",
   "metadata": {},
   "source": [
    "Вывод\n",
    "\n",
    "Проанализировав полученную информацию о таблицах, можно выделить следующие проблемы:\n",
    "Столбец 'churn_date' в таблице data_users имеет пропущенные значения\n",
    "Столбец 'Unnamed:' в таблице data_internet имеет некорректный вид\n",
    "Для проведения дальнейшего анализа необходимо решить найденные проблемы и более детально изучить столбцы в данных таблицах."
   ]
  },
  {
   "cell_type": "markdown",
   "metadata": {},
   "source": [
    "Шаг 2. Подготовка данных\n",
    "\n",
    "2.1. Предобработка данных\n",
    "\n",
    "Первым делом необходимо проанализировать все таблицы на наличие пропущенных значений. Для удобства и автоматизации процесса создам цикл, который проверит столбцы всех таблиц на наличие пропущенных значений с помощью метода .isnull().sum()."
   ]
  },
  {
   "cell_type": "code",
   "execution_count": 3,
   "metadata": {},
   "outputs": [
    {
     "name": "stdout",
     "output_type": "stream",
     "text": [
      "==============\n",
      "\u001b[32m id           0\n",
      "call_date    0\n",
      "duration     0\n",
      "user_id      0\n",
      "dtype: int64 \u001b[0m\n",
      "==============\n",
      "\n",
      "==============\n",
      "\u001b[32m Unnamed: 0      0\n",
      "id              0\n",
      "mb_used         0\n",
      "session_date    0\n",
      "user_id         0\n",
      "dtype: int64 \u001b[0m\n",
      "==============\n",
      "\n",
      "==============\n",
      "\u001b[32m id              0\n",
      "message_date    0\n",
      "user_id         0\n",
      "dtype: int64 \u001b[0m\n",
      "==============\n",
      "\n",
      "==============\n",
      "\u001b[32m messages_included        0\n",
      "mb_per_month_included    0\n",
      "minutes_included         0\n",
      "rub_monthly_fee          0\n",
      "rub_per_gb               0\n",
      "rub_per_message          0\n",
      "rub_per_minute           0\n",
      "tariff_name              0\n",
      "dtype: int64 \u001b[0m\n",
      "==============\n",
      "\n",
      "==============\n",
      "\u001b[32m user_id         0\n",
      "age             0\n",
      "churn_date    462\n",
      "city            0\n",
      "first_name      0\n",
      "last_name       0\n",
      "reg_date        0\n",
      "tariff          0\n",
      "dtype: int64 \u001b[0m\n",
      "==============\n",
      "\n"
     ]
    }
   ],
   "source": [
    "# Проверяю все датафреймы из списка 'dataframe_list' на количество пропущенных значений\n",
    "for x in dataframe_list:      # Создаю цикл для проверки \n",
    "    print('==============')   # Строка для удобства чтения результатов вывода\n",
    "    print(ClrG, x.isnull().sum(), ClrDef) # Применяю метод .isnull().sum()\n",
    "    print('==============')   # Строка для удобства чтения результатов вывода\n",
    "    print()"
   ]
  },
  {
   "cell_type": "markdown",
   "metadata": {},
   "source": [
    "Пропущенные значения выявлены только в таблице data_users в столбце churn_date. Количество пропусков 462.\n",
    "\n"
   ]
  },
  {
   "cell_type": "markdown",
   "metadata": {},
   "source": [
    "Избавление от некорректного столбца 'Unnamed:' в таблице 'data_internet'\n",
    "\n",
    "Данный столбец является некорректным и не несёт в себе никакой смысловой нагрузки, поэтому я принимаю решение удалить его из датафрейма с помощью функции del."
   ]
  },
  {
   "cell_type": "code",
   "execution_count": 4,
   "metadata": {},
   "outputs": [
    {
     "data": {
      "text/plain": [
       "Index(['id', 'mb_used', 'session_date', 'user_id'], dtype='object')"
      ]
     },
     "execution_count": 4,
     "metadata": {},
     "output_type": "execute_result"
    }
   ],
   "source": [
    "del data_internet['Unnamed: 0'] # Удаляю столбец \n",
    "data_internet.columns           # Вывожу список заголовков столбцов таблицы 'data_internet'"
   ]
  },
  {
   "cell_type": "markdown",
   "metadata": {},
   "source": [
    "Предобработка таблицы 'data_calls'\n",
    "Столбец call_date имеет тип данных object, необходимо привести его к типу данных datetime с помощью метода .to_datetime()"
   ]
  },
  {
   "cell_type": "code",
   "execution_count": 5,
   "metadata": {},
   "outputs": [
    {
     "data": {
      "text/plain": [
       "0   2018-07-25\n",
       "1   2018-08-17\n",
       "2   2018-06-11\n",
       "3   2018-09-21\n",
       "4   2018-12-15\n",
       "Name: call_date, dtype: datetime64[ns]"
      ]
     },
     "execution_count": 5,
     "metadata": {},
     "output_type": "execute_result"
    }
   ],
   "source": [
    "#Преобразую столбец 'call_date' к типу данных datetime с помощью метода '.to_datetime()'\n",
    "data_calls['call_date'] = pd.to_datetime(data_calls['call_date'], format='%Y-%m-%d')\n",
    "data_calls['call_date'].head(5)"
   ]
  },
  {
   "cell_type": "markdown",
   "metadata": {},
   "source": [
    "Столбец duration - длительность звонка в минутах - имеет тип данных float64, что противоречит описанию входных данных о столбце, поэтому необходимо преобразовать данный столбец к типу данных int - целое число и круглить в верхнюю сторону."
   ]
  },
  {
   "cell_type": "code",
   "execution_count": 6,
   "metadata": {},
   "outputs": [
    {
     "data": {
      "text/plain": [
       "0     0.00\n",
       "1     0.00\n",
       "2     2.85\n",
       "3    13.80\n",
       "4     5.18\n",
       "Name: duration, dtype: float64"
      ]
     },
     "execution_count": 6,
     "metadata": {},
     "output_type": "execute_result"
    }
   ],
   "source": [
    "data_calls['duration'].head(5) # Вывожу 5 строк столбца 'duration'"
   ]
  },
  {
   "cell_type": "markdown",
   "metadata": {},
   "source": [
    "Столбец содержит нулевые значения, чтобы определить что делать с нулевыми значениями, необходимо подробнее изучить значения в диапазоне от 0 до 1. Для этого воспользуюсь методом .query()."
   ]
  },
  {
   "cell_type": "code",
   "execution_count": 7,
   "metadata": {},
   "outputs": [
    {
     "name": "stdout",
     "output_type": "stream",
     "text": [
      "Диапазон от 0 до 1 минуты: \u001b[32m 8314 \u001b[0m\n",
      "Количество нулевых значений: \u001b[32m 39613 \u001b[0m\n"
     ]
    }
   ],
   "source": [
    "print('Диапазон от 0 до 1 минуты:', ClrG, data_calls.query('duration > 0 and duration < 1')['duration'].count(), ClrDef)\n",
    "print('Количество нулевых значений:', ClrG, data_calls.query('duration == 0')['duration'].count(), ClrDef)"
   ]
  },
  {
   "cell_type": "markdown",
   "metadata": {},
   "source": [
    "Таким образом известно, что имеется 8314 значений больше нуля и меньше 1, а также имеется 39613 нулевых значений. Исходя из полученной информации я могу сделать вывод о том, что нулевые значения соответствуют тем звонкам, когда абонент не ответил на звонок и соответственно длительность разговара составила 0 минут и 0 секунд, то есть нулевые значения в столбце duration соответствуют исходящим непринятым звонкам. Опираясь на выдвигаемую мной гипотезу, можно сделать заключение о том, что исходящие звонки с длительностью 0 минут не расходуют пакет и за такие звонки не взимается плата, следовательно от нулевых значений можно избавиться путём удаления их из датафрейма, так как подобные записи не содержат в себе полезной смысловой нагрузки для проведения дальнейшего анализа и ответа на поставленные цели проекта.\n",
    "\n",
    "Для округления значений в столбце duration в большую сторону воспользуюсь библиотекой numpy и встроенным в неё методом .ceil()."
   ]
  },
  {
   "cell_type": "code",
   "execution_count": 8,
   "metadata": {
    "scrolled": true
   },
   "outputs": [
    {
     "name": "stdout",
     "output_type": "stream",
     "text": [
      "Строк до обработки: \u001b[32m 202607 \u001b[0m\n",
      "Строк после обработки: \u001b[32m 162994 \u001b[0m\n",
      "Количество нулевых значений: \u001b[32m 0 \u001b[0m\n"
     ]
    }
   ],
   "source": [
    "import numpy as np     # Импортирую библиотеку 'numpy'\n",
    "\n",
    "print('Строк до обработки:', ClrG, data_calls['duration'].count(), ClrDef) # Кол-во строк до обработки\n",
    "data_calls['duration'] = np.ceil(data_calls['duration']) # Округляю значения в большую сторону\n",
    "data_calls['duration'] = data_calls['duration'].astype('int') # Перевожу в целочисленные значения\n",
    "data_calls = data_calls[~(data_calls[['duration']]==0).all(axis=1)] # Удаляю значения равные 0\n",
    "print('Строк после обработки:', ClrG, data_calls['duration'].count(), ClrDef) # Кол-во строк после обработки\n",
    "print('Количество нулевых значений:', ClrG, data_calls.query('duration == 0')['duration'].count(), ClrDef) # Кол-во нулей"
   ]
  },
  {
   "cell_type": "markdown",
   "metadata": {},
   "source": [
    "Для дальнейшего анализа потребуется создать новый столбец call_month в котором будет значение месяца в котором совершался звонок для каждой записи датафрейма data_calls. Для этого воспользуюсь методом .dt.month. Таким образом получу значение месяца в котором совершался звонок в числовом типе, после чего создаю функцию change_call_month, которая заменил числовое значение месяца на текстовое значение для удобства восприятия информации. (Пример: 1 - Январь, 2 - Февраль)"
   ]
  },
  {
   "cell_type": "code",
   "execution_count": 9,
   "metadata": {},
   "outputs": [],
   "source": [
    "# Создаю функцию 'change_month_name' для изменения числового значения \"Месяц\" на текстовое название\n",
    "def change_month_name(row):\n",
    "    # Создаю словарь 'list_month' в котором каждому числовому значению Месяца соответствует текстовое значение\n",
    "    list_month = {1: 'Январь', 2: 'Февраль', 3: 'Март', 4: 'Апрель', 5: 'Май', 6: 'Июнь', 7: 'Июль', 8: 'Август', 9: 'Сентябрь', 10: 'Октябрь', 11: 'Ноябрь', 12: 'Декабрь'}\n",
    "    month = row['month'] # Переменная 'month' равна значению из столбца 'month'\n",
    "    if month == 1:              # Если 'call_month' равно 1, то\n",
    "        month = list_month[1]   # Значение 'call_month' равно 'Январь'\n",
    "        return month            # Вернуть новое значение переменной 'month'\n",
    "    elif month == 2:            # Дальше всё аналогично\n",
    "        month = list_month[2]  \n",
    "        return month      \n",
    "    elif month == 3:\n",
    "        month = list_month[3]\n",
    "        return month      \n",
    "    elif month == 4:\n",
    "        month = list_month[4]\n",
    "        return month\n",
    "    elif month == 5:\n",
    "        month = list_month[5]\n",
    "        return month  \n",
    "    elif month == 6:\n",
    "        month = list_month[6]\n",
    "        return month\n",
    "    elif month == 7:\n",
    "        month = list_month[7]\n",
    "        return month \n",
    "    elif month == 8:\n",
    "        month = list_month[8]\n",
    "        return month    \n",
    "    elif month == 9:\n",
    "        month = list_month[9]\n",
    "        return month    \n",
    "    elif month == 10:\n",
    "        month = list_month[10]\n",
    "        return month\n",
    "    elif month == 11:\n",
    "        month = list_month[11]\n",
    "        return month\n",
    "    elif month == 12:\n",
    "        month = list_month[12]\n",
    "        return month    \n",
    "    else:\n",
    "        return month"
   ]
  },
  {
   "cell_type": "code",
   "execution_count": 10,
   "metadata": {},
   "outputs": [
    {
     "name": "stderr",
     "output_type": "stream",
     "text": [
      "/opt/conda/lib/python3.7/site-packages/ipykernel_launcher.py:2: SettingWithCopyWarning: \n",
      "A value is trying to be set on a copy of a slice from a DataFrame.\n",
      "Try using .loc[row_indexer,col_indexer] = value instead\n",
      "\n",
      "See the caveats in the documentation: http://pandas.pydata.org/pandas-docs/stable/user_guide/indexing.html#returning-a-view-versus-a-copy\n",
      "  \n",
      "/opt/conda/lib/python3.7/site-packages/ipykernel_launcher.py:5: SettingWithCopyWarning: \n",
      "A value is trying to be set on a copy of a slice from a DataFrame.\n",
      "Try using .loc[row_indexer,col_indexer] = value instead\n",
      "\n",
      "See the caveats in the documentation: http://pandas.pydata.org/pandas-docs/stable/user_guide/indexing.html#returning-a-view-versus-a-copy\n",
      "  \"\"\"\n"
     ]
    }
   ],
   "source": [
    "# Создаю столбец Месяц звонка\n",
    "data_calls['month'] = data_calls['call_date'].dt.month \n",
    "\n",
    "# К датафрейму 'data_calls' применяю функцию 'change_month_name' с помощью метода '.apply()'\n",
    "data_calls['month'] = data_calls.apply(change_month_name, axis=1)"
   ]
  },
  {
   "cell_type": "code",
   "execution_count": 11,
   "metadata": {},
   "outputs": [],
   "source": [
    "# словарь\n",
    "d_months = {1: 'Январь', 2: 'Февраль', 3: 'Март', 4: 'Апрель', 5: 'Май', 6: 'Июнь',\n",
    "            7: 'Июль', 8: 'Август', 9: 'Сентябрь', 10: 'Октябрь', 11: 'Ноябрь', 12: 'Декабрь'}"
   ]
  },
  {
   "cell_type": "code",
   "execution_count": 12,
   "metadata": {},
   "outputs": [
    {
     "data": {
      "text/plain": [
       "2             Июнь\n",
       "3         Сентябрь\n",
       "4          Декабрь\n",
       "7           Август\n",
       "8         Сентябрь\n",
       "            ...   \n",
       "202602     Декабрь\n",
       "202603     Октябрь\n",
       "202604      Ноябрь\n",
       "202605     Октябрь\n",
       "202606     Декабрь\n",
       "Name: call_date, Length: 162994, dtype: object"
      ]
     },
     "execution_count": 12,
     "metadata": {},
     "output_type": "execute_result"
    }
   ],
   "source": [
    "# используем его\n",
    "data_calls['call_date'].dt.month.map(d_months)"
   ]
  },
  {
   "cell_type": "code",
   "execution_count": 13,
   "metadata": {},
   "outputs": [
    {
     "data": {
      "text/plain": [
       "2              June\n",
       "3         September\n",
       "4          December\n",
       "7            August\n",
       "8         September\n",
       "            ...    \n",
       "202602     December\n",
       "202603      October\n",
       "202604     November\n",
       "202605      October\n",
       "202606     December\n",
       "Name: call_date, Length: 162994, dtype: object"
      ]
     },
     "execution_count": 13,
     "metadata": {},
     "output_type": "execute_result"
    }
   ],
   "source": [
    "# также есть встроенная функция в метод dt\n",
    "data_calls['call_date'].dt.month_name()"
   ]
  },
  {
   "cell_type": "markdown",
   "metadata": {},
   "source": [
    "Предобработка таблицы 'data_internet'\n",
    "Столбец session_date имеет тип данных object, необходимо привести его к типу данных datetime с помощью метода .to_datetime()"
   ]
  },
  {
   "cell_type": "code",
   "execution_count": 14,
   "metadata": {},
   "outputs": [
    {
     "data": {
      "text/plain": [
       "0   2018-11-25\n",
       "1   2018-09-07\n",
       "2   2018-06-25\n",
       "3   2018-08-22\n",
       "4   2018-09-24\n",
       "Name: session_date, dtype: datetime64[ns]"
      ]
     },
     "execution_count": 14,
     "metadata": {},
     "output_type": "execute_result"
    }
   ],
   "source": [
    "# Преобразую столбец 'session_date' к типу данных datetime с помощью метода '.to_datetime()'\n",
    "data_internet['session_date'] = pd.to_datetime(data_internet['session_date'], format='%Y-%m-%d')\n",
    "data_internet['session_date'].head(5)"
   ]
  },
  {
   "cell_type": "markdown",
   "metadata": {},
   "source": [
    "Столбец mb_used - объём потраченного за сессию интернет-трафика (в мегабайтах) - имеет тип данных float64, что противоречит описанию входных данных о столбце, поэтому необходимо преобразовать данный столбец к типу данных int - целое число и круглить в верхнюю сторону."
   ]
  },
  {
   "cell_type": "code",
   "execution_count": 15,
   "metadata": {},
   "outputs": [
    {
     "name": "stdout",
     "output_type": "stream",
     "text": [
      "Диапазон от 0 до 1 mb: \u001b[32m 101 \u001b[0m\n",
      "Количество нулевых значений: \u001b[32m 19598 \u001b[0m\n"
     ]
    }
   ],
   "source": [
    "print('Диапазон от 0 до 1 mb:', ClrG, data_internet.query('mb_used > 0 and mb_used < 1')['mb_used'].count(), ClrDef)\n",
    "print('Количество нулевых значений:', ClrG, data_internet.query('mb_used == 0')['mb_used'].count(), ClrDef)"
   ]
  },
  {
   "cell_type": "markdown",
   "metadata": {},
   "source": [
    "Таким образом известно, что имеется 101 значение больше нуля и меньше 1 mb, а также имеется 19598 нулевых значений. Исходя из полученной информации я могу сделать вывод о том, что нулевые значения появляются в том случае, когда абонент не использовал интернет трафик, либо размер трафика не превышал нескольких килобайт, следовательно такие значения не несут в себе полезной нагрузки для дальнейшего анализа и от них можно избавиться.\n",
    "\n",
    "Для округления значений в столбце mb_used в большую сторону воспользуюсь библиотекой numpy и встроенным в неё методом .ceil()."
   ]
  },
  {
   "cell_type": "code",
   "execution_count": 16,
   "metadata": {},
   "outputs": [
    {
     "name": "stdout",
     "output_type": "stream",
     "text": [
      "Строк до обработки: \u001b[32m 149396 \u001b[0m\n",
      "Строк после обработки: \u001b[32m 129798 \u001b[0m\n",
      "Количество нулевых значений: \u001b[32m 0 \u001b[0m\n"
     ]
    }
   ],
   "source": [
    "print('Строк до обработки:', ClrG, data_internet['mb_used'].count(), ClrDef) # Кол-во строк до обработки\n",
    "data_internet['mb_used'] = np.ceil(data_internet['mb_used']) # Округляю значения в большую сторону\n",
    "data_internet['mb_used'] = data_internet['mb_used'].astype('int') # Перевожу в целочисленные значения\n",
    "data_internet = data_internet[~(data_internet[['mb_used']]==0).all(axis=1)] # Удаляю значения равные 0\n",
    "print('Строк после обработки:', ClrG, data_internet['mb_used'].count(), ClrDef) # Кол-во строк после обработки\n",
    "print('Количество нулевых значений:', ClrG, data_internet.query('mb_used == 0')['mb_used'].count(), ClrDef) # Кол-во нулей"
   ]
  },
  {
   "cell_type": "markdown",
   "metadata": {},
   "source": [
    "Для дальнейшего анализа потребуется создать новый столбец month в котором будет значение месяца в котором использовался интернет трафик для каждой записи датафрейма data_internet. Для этого воспользуюсь методом .dt.month. Таким образом получу значение месяца в котором использовался интернет трафик в числовом типе, после чего воспользуюсь созданной выше функцией change_call_month, которая заменит числовое значение месяца на текстовое значение для удобства восприятия информации. (Пример: 1 - Январь, 2 - Февраль)"
   ]
  },
  {
   "cell_type": "code",
   "execution_count": 17,
   "metadata": {},
   "outputs": [
    {
     "name": "stderr",
     "output_type": "stream",
     "text": [
      "/opt/conda/lib/python3.7/site-packages/ipykernel_launcher.py:2: SettingWithCopyWarning: \n",
      "A value is trying to be set on a copy of a slice from a DataFrame.\n",
      "Try using .loc[row_indexer,col_indexer] = value instead\n",
      "\n",
      "See the caveats in the documentation: http://pandas.pydata.org/pandas-docs/stable/user_guide/indexing.html#returning-a-view-versus-a-copy\n",
      "  \n",
      "/opt/conda/lib/python3.7/site-packages/ipykernel_launcher.py:5: SettingWithCopyWarning: \n",
      "A value is trying to be set on a copy of a slice from a DataFrame.\n",
      "Try using .loc[row_indexer,col_indexer] = value instead\n",
      "\n",
      "See the caveats in the documentation: http://pandas.pydata.org/pandas-docs/stable/user_guide/indexing.html#returning-a-view-versus-a-copy\n",
      "  \"\"\"\n"
     ]
    }
   ],
   "source": [
    "# Создаю столбец Месяц использования интернет трафика\n",
    "data_internet['month'] = data_internet['session_date'].dt.month \n",
    "\n",
    "# К датафрейму 'data_internet' применяю функцию 'change_month_name' с помощью метода '.apply()'\n",
    "data_internet['month'] = data_internet.apply(change_month_name, axis=1)"
   ]
  },
  {
   "cell_type": "markdown",
   "metadata": {},
   "source": [
    "Предобработка таблицы 'data_messages'\n",
    "Столбец message_date имеет тип данных object, необходимо привести его к типу данных datetime с помощью метода .to_datetime()."
   ]
  },
  {
   "cell_type": "code",
   "execution_count": 18,
   "metadata": {},
   "outputs": [
    {
     "data": {
      "text/plain": [
       "0   2018-06-27\n",
       "1   2018-10-08\n",
       "2   2018-08-04\n",
       "3   2018-06-16\n",
       "4   2018-12-05\n",
       "Name: message_date, dtype: datetime64[ns]"
      ]
     },
     "execution_count": 18,
     "metadata": {},
     "output_type": "execute_result"
    }
   ],
   "source": [
    "# Преобразую столбец 'message_date' к типу данных datetime с помощью метода '.to_datetime()'\n",
    "data_messages['message_date'] = pd.to_datetime(data_messages['message_date'], format='%Y-%m-%d')\n",
    "data_messages['message_date'].head(5)"
   ]
  },
  {
   "cell_type": "markdown",
   "metadata": {},
   "source": [
    "Для дальнейшего анализа потребуется создать новый столбец month в котором будет значение месяца в котором было отправлено смс сообщение для каждой записи датафрейма data_messages. Для этого воспользуюсь методом .dt.month. Таким образом получу значение месяца в котором было отправлено смс сообщение в числовом типе, после чего воспользуюсь созданной выше функцией change_call_month, которая заменит числовое значение месяца на текстовое значение для удобства восприятия информации. (Пример: 1 - Январь, 2 - Февраль)"
   ]
  },
  {
   "cell_type": "code",
   "execution_count": 19,
   "metadata": {},
   "outputs": [],
   "source": [
    "# Создаю столбец Месяц отправки смс сообщения\n",
    "data_messages['month'] = data_messages['message_date'].dt.month \n",
    "\n",
    "# К датафрейму 'data_messages' применяю функцию 'change_month_name' с помощью метода '.apply()'\n",
    "data_messages['month'] = data_messages.apply(change_month_name, axis=1)"
   ]
  },
  {
   "cell_type": "markdown",
   "metadata": {},
   "source": [
    "Предобработка таблицы 'data_users'\n",
    "Столбец reg_date имеет тип данных object, необходимо привести его к типу данных datetime с помощью метода .to_datetime()."
   ]
  },
  {
   "cell_type": "code",
   "execution_count": 20,
   "metadata": {},
   "outputs": [
    {
     "data": {
      "text/plain": [
       "0   2018-05-25\n",
       "1   2018-11-01\n",
       "2   2018-06-17\n",
       "3   2018-08-17\n",
       "4   2018-05-14\n",
       "Name: reg_date, dtype: datetime64[ns]"
      ]
     },
     "execution_count": 20,
     "metadata": {},
     "output_type": "execute_result"
    }
   ],
   "source": [
    "# Преобразую столбец 'reg_date' к типу данных datetime с помощью метода '.to_datetime()'\n",
    "data_users['reg_date'] = pd.to_datetime(data_users['reg_date'], format='%Y-%m-%d')\n",
    "data_users['reg_date'].head(5)"
   ]
  },
  {
   "cell_type": "markdown",
   "metadata": {},
   "source": [
    "2.2. Расчёт новых значений для каждого пользователя\n",
    "В данном разделе необходимо расчитать для каждого клиента следующие параметры:\n",
    "\n",
    "Количество сделанных звонков и израсходованных минут разговора по месяцам\n",
    "Количество отправленных сообщений по месяцам\n",
    "Объем израсходованного интернет-трафика по месяцам\n",
    "Помесячная выручка с каждого пользователя\n",
    "\n",
    "2.2.1 Количество сделанных звонков и израсходованных минут разговора по месяцам\n",
    "Для подсчета количество сделанных звонков и израсходованных минут для каждого пользователя по месяцам, я воспользуюсь методом .groupby для группировки таблицы по столбцам user_id и call_month и посчитаю сумму минут разговора с помощью метода .sum(). Далее создам временный датафрейм в котором посчитаю количество звонков по месяцам для каждого пользователя, после чего объединю два временных датафрейма и получу новый датафрейм calls_grouped в котором будет содержаться информация об израсходованных минутах и количестве сделанных звонков для каждого пользователя по месяцам."
   ]
  },
  {
   "cell_type": "code",
   "execution_count": 21,
   "metadata": {},
   "outputs": [
    {
     "data": {
      "text/html": [
       "<div>\n",
       "<style scoped>\n",
       "    .dataframe tbody tr th:only-of-type {\n",
       "        vertical-align: middle;\n",
       "    }\n",
       "\n",
       "    .dataframe tbody tr th {\n",
       "        vertical-align: top;\n",
       "    }\n",
       "\n",
       "    .dataframe thead th {\n",
       "        text-align: right;\n",
       "    }\n",
       "</style>\n",
       "<table border=\"1\" class=\"dataframe\">\n",
       "  <thead>\n",
       "    <tr style=\"text-align: right;\">\n",
       "      <th></th>\n",
       "      <th>user_id</th>\n",
       "      <th>month</th>\n",
       "      <th>call_duration</th>\n",
       "    </tr>\n",
       "  </thead>\n",
       "  <tbody>\n",
       "    <tr>\n",
       "      <td>0</td>\n",
       "      <td>1000</td>\n",
       "      <td>Август</td>\n",
       "      <td>408</td>\n",
       "    </tr>\n",
       "    <tr>\n",
       "      <td>1</td>\n",
       "      <td>1000</td>\n",
       "      <td>Декабрь</td>\n",
       "      <td>333</td>\n",
       "    </tr>\n",
       "    <tr>\n",
       "      <td>2</td>\n",
       "      <td>1000</td>\n",
       "      <td>Июль</td>\n",
       "      <td>340</td>\n",
       "    </tr>\n",
       "    <tr>\n",
       "      <td>3</td>\n",
       "      <td>1000</td>\n",
       "      <td>Июнь</td>\n",
       "      <td>172</td>\n",
       "    </tr>\n",
       "    <tr>\n",
       "      <td>4</td>\n",
       "      <td>1000</td>\n",
       "      <td>Май</td>\n",
       "      <td>159</td>\n",
       "    </tr>\n",
       "  </tbody>\n",
       "</table>\n",
       "</div>"
      ],
      "text/plain": [
       "   user_id    month  call_duration\n",
       "0     1000   Август            408\n",
       "1     1000  Декабрь            333\n",
       "2     1000     Июль            340\n",
       "3     1000     Июнь            172\n",
       "4     1000      Май            159"
      ]
     },
     "execution_count": 21,
     "metadata": {},
     "output_type": "execute_result"
    }
   ],
   "source": [
    "# Создаю df 'calls_grouped' в котором для каждого юзера посчитаю длительность звонков по месяцам\n",
    "calls_grouped = data_calls.groupby(['user_id','month']).agg({'duration':'sum'}).reset_index()\n",
    "# Переименую заголовки столбцов (для удобства)\n",
    "calls_grouped.rename(columns={'duration': 'call_duration'}, inplace=True)\n",
    "calls_grouped.head(5) # Вывод полученного df "
   ]
  },
  {
   "cell_type": "code",
   "execution_count": 22,
   "metadata": {},
   "outputs": [
    {
     "data": {
      "text/html": [
       "<div>\n",
       "<style scoped>\n",
       "    .dataframe tbody tr th:only-of-type {\n",
       "        vertical-align: middle;\n",
       "    }\n",
       "\n",
       "    .dataframe tbody tr th {\n",
       "        vertical-align: top;\n",
       "    }\n",
       "\n",
       "    .dataframe thead th {\n",
       "        text-align: right;\n",
       "    }\n",
       "</style>\n",
       "<table border=\"1\" class=\"dataframe\">\n",
       "  <thead>\n",
       "    <tr style=\"text-align: right;\">\n",
       "      <th></th>\n",
       "      <th>user_id</th>\n",
       "      <th>month</th>\n",
       "      <th>duration</th>\n",
       "    </tr>\n",
       "  </thead>\n",
       "  <tbody>\n",
       "    <tr>\n",
       "      <td>0</td>\n",
       "      <td>1000</td>\n",
       "      <td>Август</td>\n",
       "      <td>42</td>\n",
       "    </tr>\n",
       "    <tr>\n",
       "      <td>1</td>\n",
       "      <td>1000</td>\n",
       "      <td>Декабрь</td>\n",
       "      <td>38</td>\n",
       "    </tr>\n",
       "    <tr>\n",
       "      <td>2</td>\n",
       "      <td>1000</td>\n",
       "      <td>Июль</td>\n",
       "      <td>41</td>\n",
       "    </tr>\n",
       "    <tr>\n",
       "      <td>3</td>\n",
       "      <td>1000</td>\n",
       "      <td>Июнь</td>\n",
       "      <td>28</td>\n",
       "    </tr>\n",
       "    <tr>\n",
       "      <td>4</td>\n",
       "      <td>1000</td>\n",
       "      <td>Май</td>\n",
       "      <td>17</td>\n",
       "    </tr>\n",
       "  </tbody>\n",
       "</table>\n",
       "</div>"
      ],
      "text/plain": [
       "   user_id    month  duration\n",
       "0     1000   Август        42\n",
       "1     1000  Декабрь        38\n",
       "2     1000     Июль        41\n",
       "3     1000     Июнь        28\n",
       "4     1000      Май        17"
      ]
     },
     "execution_count": 22,
     "metadata": {},
     "output_type": "execute_result"
    }
   ],
   "source": [
    "# Создаю df 'calls_grouped2' в котором для каждого юзера посчитаю количество звонков по месяцам\n",
    "calls_grouped2 = data_calls.groupby(['user_id','month']).agg({'duration':'count'}).reset_index()\n",
    "calls_grouped2.head(5) # Вывод полученного df "
   ]
  },
  {
   "cell_type": "code",
   "execution_count": 23,
   "metadata": {},
   "outputs": [
    {
     "data": {
      "text/html": [
       "<div>\n",
       "<style scoped>\n",
       "    .dataframe tbody tr th:only-of-type {\n",
       "        vertical-align: middle;\n",
       "    }\n",
       "\n",
       "    .dataframe tbody tr th {\n",
       "        vertical-align: top;\n",
       "    }\n",
       "\n",
       "    .dataframe thead th {\n",
       "        text-align: right;\n",
       "    }\n",
       "</style>\n",
       "<table border=\"1\" class=\"dataframe\">\n",
       "  <thead>\n",
       "    <tr style=\"text-align: right;\">\n",
       "      <th></th>\n",
       "      <th>user_id</th>\n",
       "      <th>month</th>\n",
       "      <th>call_duration</th>\n",
       "      <th>call_count</th>\n",
       "    </tr>\n",
       "  </thead>\n",
       "  <tbody>\n",
       "    <tr>\n",
       "      <td>0</td>\n",
       "      <td>1000</td>\n",
       "      <td>Август</td>\n",
       "      <td>408</td>\n",
       "      <td>42</td>\n",
       "    </tr>\n",
       "    <tr>\n",
       "      <td>1</td>\n",
       "      <td>1000</td>\n",
       "      <td>Декабрь</td>\n",
       "      <td>333</td>\n",
       "      <td>38</td>\n",
       "    </tr>\n",
       "    <tr>\n",
       "      <td>2</td>\n",
       "      <td>1000</td>\n",
       "      <td>Июль</td>\n",
       "      <td>340</td>\n",
       "      <td>41</td>\n",
       "    </tr>\n",
       "    <tr>\n",
       "      <td>3</td>\n",
       "      <td>1000</td>\n",
       "      <td>Июнь</td>\n",
       "      <td>172</td>\n",
       "      <td>28</td>\n",
       "    </tr>\n",
       "    <tr>\n",
       "      <td>4</td>\n",
       "      <td>1000</td>\n",
       "      <td>Май</td>\n",
       "      <td>159</td>\n",
       "      <td>17</td>\n",
       "    </tr>\n",
       "  </tbody>\n",
       "</table>\n",
       "</div>"
      ],
      "text/plain": [
       "   user_id    month  call_duration  call_count\n",
       "0     1000   Август            408          42\n",
       "1     1000  Декабрь            333          38\n",
       "2     1000     Июль            340          41\n",
       "3     1000     Июнь            172          28\n",
       "4     1000      Май            159          17"
      ]
     },
     "execution_count": 23,
     "metadata": {},
     "output_type": "execute_result"
    }
   ],
   "source": [
    "# Объединяю два временных df в один постоянный\n",
    "calls_grouped = calls_grouped.merge(calls_grouped2, on=['user_id', 'month'], how='left')\n",
    "# Переименую заголовки столбцов (для удобства)\n",
    "calls_grouped.rename(columns={'duration': 'call_count'}, inplace=True)\n",
    "calls_grouped.head(5) # Вывод полученного df "
   ]
  },
  {
   "cell_type": "markdown",
   "metadata": {},
   "source": [
    "2.2.2 Количество отправленных сообщений по месяцам\n",
    "Для подсчета количества отправленных сообщений для каждого пользователя по месяцам, я воспользуюсь методом .groupby для группировки таблицы по столбцам user_id и month и посчитаю сумму отправленных сообщений с помощью метода .count(). Полученный датафрейм назову messages_grouped"
   ]
  },
  {
   "cell_type": "code",
   "execution_count": 24,
   "metadata": {},
   "outputs": [
    {
     "data": {
      "text/html": [
       "<div>\n",
       "<style scoped>\n",
       "    .dataframe tbody tr th:only-of-type {\n",
       "        vertical-align: middle;\n",
       "    }\n",
       "\n",
       "    .dataframe tbody tr th {\n",
       "        vertical-align: top;\n",
       "    }\n",
       "\n",
       "    .dataframe thead th {\n",
       "        text-align: right;\n",
       "    }\n",
       "</style>\n",
       "<table border=\"1\" class=\"dataframe\">\n",
       "  <thead>\n",
       "    <tr style=\"text-align: right;\">\n",
       "      <th></th>\n",
       "      <th>user_id</th>\n",
       "      <th>month</th>\n",
       "      <th>message_count</th>\n",
       "    </tr>\n",
       "  </thead>\n",
       "  <tbody>\n",
       "    <tr>\n",
       "      <td>0</td>\n",
       "      <td>1000</td>\n",
       "      <td>Август</td>\n",
       "      <td>81</td>\n",
       "    </tr>\n",
       "    <tr>\n",
       "      <td>1</td>\n",
       "      <td>1000</td>\n",
       "      <td>Декабрь</td>\n",
       "      <td>70</td>\n",
       "    </tr>\n",
       "    <tr>\n",
       "      <td>2</td>\n",
       "      <td>1000</td>\n",
       "      <td>Июль</td>\n",
       "      <td>75</td>\n",
       "    </tr>\n",
       "    <tr>\n",
       "      <td>3</td>\n",
       "      <td>1000</td>\n",
       "      <td>Июнь</td>\n",
       "      <td>60</td>\n",
       "    </tr>\n",
       "    <tr>\n",
       "      <td>4</td>\n",
       "      <td>1000</td>\n",
       "      <td>Май</td>\n",
       "      <td>22</td>\n",
       "    </tr>\n",
       "  </tbody>\n",
       "</table>\n",
       "</div>"
      ],
      "text/plain": [
       "   user_id    month  message_count\n",
       "0     1000   Август             81\n",
       "1     1000  Декабрь             70\n",
       "2     1000     Июль             75\n",
       "3     1000     Июнь             60\n",
       "4     1000      Май             22"
      ]
     },
     "execution_count": 24,
     "metadata": {},
     "output_type": "execute_result"
    }
   ],
   "source": [
    "# Создаю df 'messages_grouped' в котором для каждого юзера посчитаю кол-во сообщений по месяцам\n",
    "messages_grouped = data_messages.groupby(['user_id','month']).agg({'id':'count'}).reset_index()\n",
    "\n",
    "# Переименую заголовки столбцов (для удобства)\n",
    "messages_grouped.rename(columns={'id': 'message_count'}, inplace=True)\n",
    "messages_grouped.head(5) # Вывод полученного df"
   ]
  },
  {
   "cell_type": "markdown",
   "metadata": {},
   "source": [
    "2.2.3 Объем израсходованного интернет-трафика по месяцам\n",
    "Для подсчета общего объёма израсходованного интернет-трафика для каждого пользователя по месяцам, я воспользуюсь методом .groupby для группировки таблицы по столбцам user_id и month и посчитаю сумму израсходанного интернет-трафика в каждому месяце с помощью метода .sum(). Полученный датафрейм назову internet_grouped"
   ]
  },
  {
   "cell_type": "code",
   "execution_count": 25,
   "metadata": {},
   "outputs": [
    {
     "data": {
      "text/html": [
       "<div>\n",
       "<style scoped>\n",
       "    .dataframe tbody tr th:only-of-type {\n",
       "        vertical-align: middle;\n",
       "    }\n",
       "\n",
       "    .dataframe tbody tr th {\n",
       "        vertical-align: top;\n",
       "    }\n",
       "\n",
       "    .dataframe thead th {\n",
       "        text-align: right;\n",
       "    }\n",
       "</style>\n",
       "<table border=\"1\" class=\"dataframe\">\n",
       "  <thead>\n",
       "    <tr style=\"text-align: right;\">\n",
       "      <th></th>\n",
       "      <th>user_id</th>\n",
       "      <th>month</th>\n",
       "      <th>trafic_used</th>\n",
       "    </tr>\n",
       "  </thead>\n",
       "  <tbody>\n",
       "    <tr>\n",
       "      <td>0</td>\n",
       "      <td>1000</td>\n",
       "      <td>Август</td>\n",
       "      <td>14070</td>\n",
       "    </tr>\n",
       "    <tr>\n",
       "      <td>1</td>\n",
       "      <td>1000</td>\n",
       "      <td>Декабрь</td>\n",
       "      <td>9827</td>\n",
       "    </tr>\n",
       "    <tr>\n",
       "      <td>2</td>\n",
       "      <td>1000</td>\n",
       "      <td>Июль</td>\n",
       "      <td>14016</td>\n",
       "    </tr>\n",
       "    <tr>\n",
       "      <td>3</td>\n",
       "      <td>1000</td>\n",
       "      <td>Июнь</td>\n",
       "      <td>23257</td>\n",
       "    </tr>\n",
       "    <tr>\n",
       "      <td>4</td>\n",
       "      <td>1000</td>\n",
       "      <td>Май</td>\n",
       "      <td>2256</td>\n",
       "    </tr>\n",
       "  </tbody>\n",
       "</table>\n",
       "</div>"
      ],
      "text/plain": [
       "   user_id    month  trafic_used\n",
       "0     1000   Август        14070\n",
       "1     1000  Декабрь         9827\n",
       "2     1000     Июль        14016\n",
       "3     1000     Июнь        23257\n",
       "4     1000      Май         2256"
      ]
     },
     "execution_count": 25,
     "metadata": {},
     "output_type": "execute_result"
    }
   ],
   "source": [
    "# Создаю df 'internet_grouped' в котором для каждого юзера посчитаю объём трафика по месяцам\n",
    "internet_grouped = data_internet.groupby(['user_id','month']).agg({'mb_used':'sum'}).reset_index()\n",
    "# Переименую заголовки столбцов (для удобства)\n",
    "internet_grouped.rename(columns={'mb_used': 'trafic_used'}, inplace=True)\n",
    "internet_grouped.head(5) # Вывод полученного df"
   ]
  },
  {
   "cell_type": "markdown",
   "metadata": {},
   "source": [
    "2.2.4 Помесячная выручка с каждого пользователя\n",
    "Для удобства расчёта месячной выручки (ежемесячных расходов на связь) я объединю ранее созданные датафреймы calls_grouped, messages_grouped, internet_grouped и data_users в один df под названием full_user_data. Объединять таблицы буду с помощью метода .merge()."
   ]
  },
  {
   "cell_type": "code",
   "execution_count": 26,
   "metadata": {},
   "outputs": [
    {
     "data": {
      "text/html": [
       "<div>\n",
       "<style scoped>\n",
       "    .dataframe tbody tr th:only-of-type {\n",
       "        vertical-align: middle;\n",
       "    }\n",
       "\n",
       "    .dataframe tbody tr th {\n",
       "        vertical-align: top;\n",
       "    }\n",
       "\n",
       "    .dataframe thead th {\n",
       "        text-align: right;\n",
       "    }\n",
       "</style>\n",
       "<table border=\"1\" class=\"dataframe\">\n",
       "  <thead>\n",
       "    <tr style=\"text-align: right;\">\n",
       "      <th></th>\n",
       "      <th>user_id</th>\n",
       "      <th>month</th>\n",
       "      <th>call_duration</th>\n",
       "      <th>call_count</th>\n",
       "      <th>message_count</th>\n",
       "      <th>trafic_used</th>\n",
       "      <th>tariff</th>\n",
       "    </tr>\n",
       "  </thead>\n",
       "  <tbody>\n",
       "    <tr>\n",
       "      <td>0</td>\n",
       "      <td>1000</td>\n",
       "      <td>Август</td>\n",
       "      <td>408.0</td>\n",
       "      <td>42.0</td>\n",
       "      <td>81.0</td>\n",
       "      <td>14070.0</td>\n",
       "      <td>ultra</td>\n",
       "    </tr>\n",
       "    <tr>\n",
       "      <td>1</td>\n",
       "      <td>1000</td>\n",
       "      <td>Декабрь</td>\n",
       "      <td>333.0</td>\n",
       "      <td>38.0</td>\n",
       "      <td>70.0</td>\n",
       "      <td>9827.0</td>\n",
       "      <td>ultra</td>\n",
       "    </tr>\n",
       "    <tr>\n",
       "      <td>2</td>\n",
       "      <td>1000</td>\n",
       "      <td>Июль</td>\n",
       "      <td>340.0</td>\n",
       "      <td>41.0</td>\n",
       "      <td>75.0</td>\n",
       "      <td>14016.0</td>\n",
       "      <td>ultra</td>\n",
       "    </tr>\n",
       "    <tr>\n",
       "      <td>3</td>\n",
       "      <td>1000</td>\n",
       "      <td>Июнь</td>\n",
       "      <td>172.0</td>\n",
       "      <td>28.0</td>\n",
       "      <td>60.0</td>\n",
       "      <td>23257.0</td>\n",
       "      <td>ultra</td>\n",
       "    </tr>\n",
       "    <tr>\n",
       "      <td>4</td>\n",
       "      <td>1000</td>\n",
       "      <td>Май</td>\n",
       "      <td>159.0</td>\n",
       "      <td>17.0</td>\n",
       "      <td>22.0</td>\n",
       "      <td>2256.0</td>\n",
       "      <td>ultra</td>\n",
       "    </tr>\n",
       "  </tbody>\n",
       "</table>\n",
       "</div>"
      ],
      "text/plain": [
       "   user_id    month  call_duration  call_count  message_count  trafic_used  \\\n",
       "0     1000   Август          408.0        42.0           81.0      14070.0   \n",
       "1     1000  Декабрь          333.0        38.0           70.0       9827.0   \n",
       "2     1000     Июль          340.0        41.0           75.0      14016.0   \n",
       "3     1000     Июнь          172.0        28.0           60.0      23257.0   \n",
       "4     1000      Май          159.0        17.0           22.0       2256.0   \n",
       "\n",
       "  tariff  \n",
       "0  ultra  \n",
       "1  ultra  \n",
       "2  ultra  \n",
       "3  ultra  \n",
       "4  ultra  "
      ]
     },
     "execution_count": 26,
     "metadata": {},
     "output_type": "execute_result"
    }
   ],
   "source": [
    "full_user_data = calls_grouped.merge(messages_grouped,  how = 'outer', on = ['user_id', 'month']).merge(internet_grouped,  how = 'outer', on = ['user_id', 'month']).merge(data_users[['user_id', 'tariff']], how = 'left', on = 'user_id')\n",
    "full_user_data = full_user_data.fillna(0) # заполняю пустые значения на 0\n",
    "full_user_data.head(5) # вывожу полученный df на экран для визуальной оценки"
   ]
  },
  {
   "cell_type": "markdown",
   "metadata": {},
   "source": [
    "Далее создаю функцию set_total_pay, которая на вход принимает строку из full_user_data и расчитывает какую сумму расходует каждый клиент взависимости от используемого тарифного плана. Для удобства, создаю словарь limit в который записываю характеристики каждого тарифа. После чего применяю созданную функцию к датафрейму full_user_data."
   ]
  },
  {
   "cell_type": "code",
   "execution_count": 27,
   "metadata": {},
   "outputs": [
    {
     "data": {
      "text/html": [
       "<div>\n",
       "<style scoped>\n",
       "    .dataframe tbody tr th:only-of-type {\n",
       "        vertical-align: middle;\n",
       "    }\n",
       "\n",
       "    .dataframe tbody tr th {\n",
       "        vertical-align: top;\n",
       "    }\n",
       "\n",
       "    .dataframe thead th {\n",
       "        text-align: right;\n",
       "    }\n",
       "</style>\n",
       "<table border=\"1\" class=\"dataframe\">\n",
       "  <thead>\n",
       "    <tr style=\"text-align: right;\">\n",
       "      <th></th>\n",
       "      <th>user_id</th>\n",
       "      <th>month</th>\n",
       "      <th>call_duration</th>\n",
       "      <th>call_count</th>\n",
       "      <th>message_count</th>\n",
       "      <th>trafic_used</th>\n",
       "      <th>tariff</th>\n",
       "      <th>total_pay</th>\n",
       "    </tr>\n",
       "  </thead>\n",
       "  <tbody>\n",
       "    <tr>\n",
       "      <td>0</td>\n",
       "      <td>1000</td>\n",
       "      <td>Август</td>\n",
       "      <td>408.0</td>\n",
       "      <td>42.0</td>\n",
       "      <td>81.0</td>\n",
       "      <td>14070.0</td>\n",
       "      <td>ultra</td>\n",
       "      <td>1950.0</td>\n",
       "    </tr>\n",
       "    <tr>\n",
       "      <td>1</td>\n",
       "      <td>1000</td>\n",
       "      <td>Декабрь</td>\n",
       "      <td>333.0</td>\n",
       "      <td>38.0</td>\n",
       "      <td>70.0</td>\n",
       "      <td>9827.0</td>\n",
       "      <td>ultra</td>\n",
       "      <td>1950.0</td>\n",
       "    </tr>\n",
       "    <tr>\n",
       "      <td>2</td>\n",
       "      <td>1000</td>\n",
       "      <td>Июль</td>\n",
       "      <td>340.0</td>\n",
       "      <td>41.0</td>\n",
       "      <td>75.0</td>\n",
       "      <td>14016.0</td>\n",
       "      <td>ultra</td>\n",
       "      <td>1950.0</td>\n",
       "    </tr>\n",
       "    <tr>\n",
       "      <td>3</td>\n",
       "      <td>1000</td>\n",
       "      <td>Июнь</td>\n",
       "      <td>172.0</td>\n",
       "      <td>28.0</td>\n",
       "      <td>60.0</td>\n",
       "      <td>23257.0</td>\n",
       "      <td>ultra</td>\n",
       "      <td>1950.0</td>\n",
       "    </tr>\n",
       "    <tr>\n",
       "      <td>4</td>\n",
       "      <td>1000</td>\n",
       "      <td>Май</td>\n",
       "      <td>159.0</td>\n",
       "      <td>17.0</td>\n",
       "      <td>22.0</td>\n",
       "      <td>2256.0</td>\n",
       "      <td>ultra</td>\n",
       "      <td>1950.0</td>\n",
       "    </tr>\n",
       "  </tbody>\n",
       "</table>\n",
       "</div>"
      ],
      "text/plain": [
       "   user_id    month  call_duration  call_count  message_count  trafic_used  \\\n",
       "0     1000   Август          408.0        42.0           81.0      14070.0   \n",
       "1     1000  Декабрь          333.0        38.0           70.0       9827.0   \n",
       "2     1000     Июль          340.0        41.0           75.0      14016.0   \n",
       "3     1000     Июнь          172.0        28.0           60.0      23257.0   \n",
       "4     1000      Май          159.0        17.0           22.0       2256.0   \n",
       "\n",
       "  tariff  total_pay  \n",
       "0  ultra     1950.0  \n",
       "1  ultra     1950.0  \n",
       "2  ultra     1950.0  \n",
       "3  ultra     1950.0  \n",
       "4  ultra     1950.0  "
      ]
     },
     "execution_count": 27,
     "metadata": {},
     "output_type": "execute_result"
    }
   ],
   "source": [
    "# Создаю словарь для тарифных планов по следующему правилу:\n",
    "# имя тарифа: 'минуты', 'смс', 'гб', 'цена за 1 минуту', 'цена за 1 смс', 'цена за 1 мб', 'цена тарифа'\n",
    "limit = {'smart':[500, 50, 15000, 3, 3, 0.2, 550], 'ultra':[3000, 1000, 30000, 1, 1, 0.15, 1950]}\n",
    "\n",
    "# Объявляю функцию 'set_total_pay' которая заполнит ежемесячную плату в столбце 'total_pay'\n",
    "def set_total_pay(row):\n",
    "    tarif = row['tariff']           # Название тарифного плана клиента\n",
    "    duration = row['call_duration'] # Длительность разговоров за месяц\n",
    "    message = row['message_count']  # Количество отправленных сообщений за месяц\n",
    "    trafic = row['trafic_used']     # Объём использованного трафика за месяц\n",
    "    cost = 0                        # Расходы за месяц\n",
    "    \n",
    "    if tarif == 'smart':\n",
    "        if duration <= limit['smart'][0] and message <= limit['smart'][1] and trafic <= limit['smart'][2]:\n",
    "            cost = limit['smart'][6]\n",
    "            return cost\n",
    "        elif duration > limit['smart'][0] and message <= limit['smart'][1] and trafic <= limit['smart'][2]:\n",
    "            cost = ((duration - limit['smart'][0]) * limit['smart'][3]) + limit['smart'][6]\n",
    "            return cost\n",
    "        elif duration > limit['smart'][0] and message > limit['smart'][1] and trafic <= limit['smart'][2]:\n",
    "            cost = ((duration - limit['smart'][0]) * limit['smart'][3]) + ((message - limit['smart'][1]) * limit['smart'][4]) + limit['smart'][6]\n",
    "            return cost\n",
    "        elif duration > limit['smart'][0] and message > limit['smart'][1] and trafic > limit['smart'][2]:\n",
    "            cost = ((duration - limit['smart'][0]) * limit['smart'][3]) + ((message - limit['smart'][1]) * limit['smart'][4]) + ((trafic - limit['smart'][2]) * limit['smart'][5]) + limit['smart'][6]\n",
    "            return cost\n",
    "        elif duration <= limit['smart'][0] and message > limit['smart'][1] and trafic > limit['smart'][2]:\n",
    "            cost = ((message - limit['smart'][1]) * limit['smart'][4]) + ((trafic - limit['smart'][2]) * limit['smart'][5]) + limit['smart'][6]\n",
    "            return cost\n",
    "        elif duration <= limit['smart'][0] and message > limit['smart'][1] and trafic <= limit['smart'][2]:\n",
    "            cost = ((message - limit['smart'][1]) * limit['smart'][4]) + limit['smart'][6]\n",
    "            return cost\n",
    "        elif duration <= limit['smart'][0] and message <= limit['smart'][1] and trafic > limit['smart'][2]:\n",
    "            cost = ((trafic - limit['smart'][2]) * limit['smart'][5]) + limit['smart'][6]\n",
    "            return cost\n",
    "        elif duration > limit['smart'][0] and message <= limit['smart'][1] and trafic > limit['smart'][2]:\n",
    "            cost = ((duration - limit['smart'][0]) * limit['smart'][3]) + ((trafic - limit['smart'][2]) * limit['smart'][5]) + limit['smart'][6]\n",
    "            return cost\n",
    "    else:\n",
    "        if duration <= limit['ultra'][0] and message <= limit['ultra'][1] and trafic <= limit['ultra'][2]:\n",
    "            cost = limit['ultra'][6]\n",
    "            return cost\n",
    "        elif duration > limit['ultra'][0] and message <= limit['ultra'][1] and trafic <= limit['ultra'][2]:\n",
    "            cost = ((duration - limit['ultra'][0]) * limit['ultra'][3]) + limit['ultra'][6]\n",
    "            return cost\n",
    "        elif duration > limit['ultra'][0] and message > limit['ultra'][1] and trafic <= limit['ultra'][2]:\n",
    "            cost = ((duration - limit['ultra'][0]) * limit['ultra'][3]) + ((message - limit['ultra'][1]) * limit['ultra'][4]) + limit['ultra'][6]\n",
    "            return cost\n",
    "        elif duration > limit['ultra'][0] and message > limit['ultra'][1] and trafic > limit['ultra'][2]:\n",
    "            cost = ((duration - limit['ultra'][0]) * limit['ultra'][3]) + ((message - limit['ultra'][1]) * limit['ultra'][4]) + ((trafic - limit['ultra'][2]) * limit['ultra'][5]) + limit['ultra'][6]\n",
    "            return cost\n",
    "        elif duration <= limit['ultra'][0] and message > limit['ultra'][1] and trafic > limit['ultra'][2]:\n",
    "            cost = ((message - limit['ultra'][1]) * limit['ultra'][4]) + ((trafic - limit['ultra'][2]) * limit['ultra'][5]) + limit['ultra'][6]\n",
    "            return cost\n",
    "        elif duration <= limit['ultra'][0] and message > limit['ultra'][1] and trafic <= limit['ultra'][2]:\n",
    "            cost = ((message - limit['ultra'][1]) * limit['ultra'][4]) + limit['ultra'][6]\n",
    "            return cost\n",
    "        elif duration <= limit['ultra'][0] and message <= limit['ultra'][1] and trafic > limit['ultra'][2]:\n",
    "            cost = ((trafic - limit['ultra'][2]) * limit['ultra'][5]) + limit['ultra'][6]\n",
    "            return cost\n",
    "        elif duration > limit['ultra'][0] and message <= limit['ultra'][1] and trafic > limit['ultra'][2]:\n",
    "            cost = ((duration - limit['ultra'][0]) * limit['ultra'][3]) + ((trafic - limit['ultra'][2]) * limit['ultra'][5]) + limit['ultra'][6]\n",
    "            return cost\n",
    "\n",
    "# К датафрейму 'full_user_data' применяю функцию 'set_total_pay' с помощью метода '.apply()'\n",
    "full_user_data['total_pay'] = full_user_data.apply(set_total_pay, axis=1)\n",
    "\n",
    "full_user_data.head(5) # вывожу таблицу на экран"
   ]
  },
  {
   "cell_type": "code",
   "execution_count": 28,
   "metadata": {},
   "outputs": [
    {
     "data": {
      "text/html": [
       "<div>\n",
       "<style scoped>\n",
       "    .dataframe tbody tr th:only-of-type {\n",
       "        vertical-align: middle;\n",
       "    }\n",
       "\n",
       "    .dataframe tbody tr th {\n",
       "        vertical-align: top;\n",
       "    }\n",
       "\n",
       "    .dataframe thead th {\n",
       "        text-align: right;\n",
       "    }\n",
       "</style>\n",
       "<table border=\"1\" class=\"dataframe\">\n",
       "  <thead>\n",
       "    <tr style=\"text-align: right;\">\n",
       "      <th></th>\n",
       "      <th>user_id</th>\n",
       "      <th>month</th>\n",
       "      <th>call_duration</th>\n",
       "      <th>call_count</th>\n",
       "      <th>message_count</th>\n",
       "      <th>trafic_used</th>\n",
       "      <th>tariff</th>\n",
       "      <th>total_pay</th>\n",
       "      <th>tariffright</th>\n",
       "      <th>messages_included</th>\n",
       "      <th>mb_per_month_included</th>\n",
       "      <th>minutes_included</th>\n",
       "      <th>rub_monthly_fee</th>\n",
       "      <th>rub_per_gb</th>\n",
       "      <th>rub_per_message</th>\n",
       "      <th>rub_per_minute</th>\n",
       "    </tr>\n",
       "  </thead>\n",
       "  <tbody>\n",
       "    <tr>\n",
       "      <td>0</td>\n",
       "      <td>1000</td>\n",
       "      <td>Август</td>\n",
       "      <td>408.0</td>\n",
       "      <td>42.0</td>\n",
       "      <td>81.0</td>\n",
       "      <td>14070.0</td>\n",
       "      <td>ultra</td>\n",
       "      <td>1950.0</td>\n",
       "      <td>ultra</td>\n",
       "      <td>1000</td>\n",
       "      <td>30720</td>\n",
       "      <td>3000</td>\n",
       "      <td>1950</td>\n",
       "      <td>150</td>\n",
       "      <td>1</td>\n",
       "      <td>1</td>\n",
       "    </tr>\n",
       "    <tr>\n",
       "      <td>1</td>\n",
       "      <td>1000</td>\n",
       "      <td>Декабрь</td>\n",
       "      <td>333.0</td>\n",
       "      <td>38.0</td>\n",
       "      <td>70.0</td>\n",
       "      <td>9827.0</td>\n",
       "      <td>ultra</td>\n",
       "      <td>1950.0</td>\n",
       "      <td>ultra</td>\n",
       "      <td>1000</td>\n",
       "      <td>30720</td>\n",
       "      <td>3000</td>\n",
       "      <td>1950</td>\n",
       "      <td>150</td>\n",
       "      <td>1</td>\n",
       "      <td>1</td>\n",
       "    </tr>\n",
       "    <tr>\n",
       "      <td>2</td>\n",
       "      <td>1000</td>\n",
       "      <td>Июль</td>\n",
       "      <td>340.0</td>\n",
       "      <td>41.0</td>\n",
       "      <td>75.0</td>\n",
       "      <td>14016.0</td>\n",
       "      <td>ultra</td>\n",
       "      <td>1950.0</td>\n",
       "      <td>ultra</td>\n",
       "      <td>1000</td>\n",
       "      <td>30720</td>\n",
       "      <td>3000</td>\n",
       "      <td>1950</td>\n",
       "      <td>150</td>\n",
       "      <td>1</td>\n",
       "      <td>1</td>\n",
       "    </tr>\n",
       "    <tr>\n",
       "      <td>3</td>\n",
       "      <td>1000</td>\n",
       "      <td>Июнь</td>\n",
       "      <td>172.0</td>\n",
       "      <td>28.0</td>\n",
       "      <td>60.0</td>\n",
       "      <td>23257.0</td>\n",
       "      <td>ultra</td>\n",
       "      <td>1950.0</td>\n",
       "      <td>ultra</td>\n",
       "      <td>1000</td>\n",
       "      <td>30720</td>\n",
       "      <td>3000</td>\n",
       "      <td>1950</td>\n",
       "      <td>150</td>\n",
       "      <td>1</td>\n",
       "      <td>1</td>\n",
       "    </tr>\n",
       "    <tr>\n",
       "      <td>4</td>\n",
       "      <td>1000</td>\n",
       "      <td>Май</td>\n",
       "      <td>159.0</td>\n",
       "      <td>17.0</td>\n",
       "      <td>22.0</td>\n",
       "      <td>2256.0</td>\n",
       "      <td>ultra</td>\n",
       "      <td>1950.0</td>\n",
       "      <td>ultra</td>\n",
       "      <td>1000</td>\n",
       "      <td>30720</td>\n",
       "      <td>3000</td>\n",
       "      <td>1950</td>\n",
       "      <td>150</td>\n",
       "      <td>1</td>\n",
       "      <td>1</td>\n",
       "    </tr>\n",
       "    <tr>\n",
       "      <td>...</td>\n",
       "      <td>...</td>\n",
       "      <td>...</td>\n",
       "      <td>...</td>\n",
       "      <td>...</td>\n",
       "      <td>...</td>\n",
       "      <td>...</td>\n",
       "      <td>...</td>\n",
       "      <td>...</td>\n",
       "      <td>...</td>\n",
       "      <td>...</td>\n",
       "      <td>...</td>\n",
       "      <td>...</td>\n",
       "      <td>...</td>\n",
       "      <td>...</td>\n",
       "      <td>...</td>\n",
       "      <td>...</td>\n",
       "    </tr>\n",
       "    <tr>\n",
       "      <td>3209</td>\n",
       "      <td>1489</td>\n",
       "      <td>Ноябрь</td>\n",
       "      <td>0.0</td>\n",
       "      <td>0.0</td>\n",
       "      <td>20.0</td>\n",
       "      <td>17516.0</td>\n",
       "      <td>smart</td>\n",
       "      <td>1053.2</td>\n",
       "      <td>smart</td>\n",
       "      <td>50</td>\n",
       "      <td>15360</td>\n",
       "      <td>500</td>\n",
       "      <td>550</td>\n",
       "      <td>200</td>\n",
       "      <td>3</td>\n",
       "      <td>3</td>\n",
       "    </tr>\n",
       "    <tr>\n",
       "      <td>3210</td>\n",
       "      <td>1489</td>\n",
       "      <td>Октябрь</td>\n",
       "      <td>0.0</td>\n",
       "      <td>0.0</td>\n",
       "      <td>21.0</td>\n",
       "      <td>19588.0</td>\n",
       "      <td>smart</td>\n",
       "      <td>1467.6</td>\n",
       "      <td>smart</td>\n",
       "      <td>50</td>\n",
       "      <td>15360</td>\n",
       "      <td>500</td>\n",
       "      <td>550</td>\n",
       "      <td>200</td>\n",
       "      <td>3</td>\n",
       "      <td>3</td>\n",
       "    </tr>\n",
       "    <tr>\n",
       "      <td>3211</td>\n",
       "      <td>1489</td>\n",
       "      <td>Сентябрь</td>\n",
       "      <td>0.0</td>\n",
       "      <td>0.0</td>\n",
       "      <td>32.0</td>\n",
       "      <td>17232.0</td>\n",
       "      <td>smart</td>\n",
       "      <td>996.4</td>\n",
       "      <td>smart</td>\n",
       "      <td>50</td>\n",
       "      <td>15360</td>\n",
       "      <td>500</td>\n",
       "      <td>550</td>\n",
       "      <td>200</td>\n",
       "      <td>3</td>\n",
       "      <td>3</td>\n",
       "    </tr>\n",
       "    <tr>\n",
       "      <td>3212</td>\n",
       "      <td>1240</td>\n",
       "      <td>Февраль</td>\n",
       "      <td>0.0</td>\n",
       "      <td>0.0</td>\n",
       "      <td>0.0</td>\n",
       "      <td>961.0</td>\n",
       "      <td>ultra</td>\n",
       "      <td>1950.0</td>\n",
       "      <td>ultra</td>\n",
       "      <td>1000</td>\n",
       "      <td>30720</td>\n",
       "      <td>3000</td>\n",
       "      <td>1950</td>\n",
       "      <td>150</td>\n",
       "      <td>1</td>\n",
       "      <td>1</td>\n",
       "    </tr>\n",
       "    <tr>\n",
       "      <td>3213</td>\n",
       "      <td>1476</td>\n",
       "      <td>Апрель</td>\n",
       "      <td>0.0</td>\n",
       "      <td>0.0</td>\n",
       "      <td>0.0</td>\n",
       "      <td>531.0</td>\n",
       "      <td>ultra</td>\n",
       "      <td>1950.0</td>\n",
       "      <td>ultra</td>\n",
       "      <td>1000</td>\n",
       "      <td>30720</td>\n",
       "      <td>3000</td>\n",
       "      <td>1950</td>\n",
       "      <td>150</td>\n",
       "      <td>1</td>\n",
       "      <td>1</td>\n",
       "    </tr>\n",
       "  </tbody>\n",
       "</table>\n",
       "<p>3214 rows × 16 columns</p>\n",
       "</div>"
      ],
      "text/plain": [
       "      user_id     month  call_duration  call_count  message_count  \\\n",
       "0        1000    Август          408.0        42.0           81.0   \n",
       "1        1000   Декабрь          333.0        38.0           70.0   \n",
       "2        1000      Июль          340.0        41.0           75.0   \n",
       "3        1000      Июнь          172.0        28.0           60.0   \n",
       "4        1000       Май          159.0        17.0           22.0   \n",
       "...       ...       ...            ...         ...            ...   \n",
       "3209     1489    Ноябрь            0.0         0.0           20.0   \n",
       "3210     1489   Октябрь            0.0         0.0           21.0   \n",
       "3211     1489  Сентябрь            0.0         0.0           32.0   \n",
       "3212     1240   Февраль            0.0         0.0            0.0   \n",
       "3213     1476    Апрель            0.0         0.0            0.0   \n",
       "\n",
       "      trafic_used tariff  total_pay tariffright  messages_included  \\\n",
       "0         14070.0  ultra     1950.0       ultra               1000   \n",
       "1          9827.0  ultra     1950.0       ultra               1000   \n",
       "2         14016.0  ultra     1950.0       ultra               1000   \n",
       "3         23257.0  ultra     1950.0       ultra               1000   \n",
       "4          2256.0  ultra     1950.0       ultra               1000   \n",
       "...           ...    ...        ...         ...                ...   \n",
       "3209      17516.0  smart     1053.2       smart                 50   \n",
       "3210      19588.0  smart     1467.6       smart                 50   \n",
       "3211      17232.0  smart      996.4       smart                 50   \n",
       "3212        961.0  ultra     1950.0       ultra               1000   \n",
       "3213        531.0  ultra     1950.0       ultra               1000   \n",
       "\n",
       "      mb_per_month_included  minutes_included  rub_monthly_fee  rub_per_gb  \\\n",
       "0                     30720              3000             1950         150   \n",
       "1                     30720              3000             1950         150   \n",
       "2                     30720              3000             1950         150   \n",
       "3                     30720              3000             1950         150   \n",
       "4                     30720              3000             1950         150   \n",
       "...                     ...               ...              ...         ...   \n",
       "3209                  15360               500              550         200   \n",
       "3210                  15360               500              550         200   \n",
       "3211                  15360               500              550         200   \n",
       "3212                  30720              3000             1950         150   \n",
       "3213                  30720              3000             1950         150   \n",
       "\n",
       "      rub_per_message  rub_per_minute  \n",
       "0                   1               1  \n",
       "1                   1               1  \n",
       "2                   1               1  \n",
       "3                   1               1  \n",
       "4                   1               1  \n",
       "...               ...             ...  \n",
       "3209                3               3  \n",
       "3210                3               3  \n",
       "3211                3               3  \n",
       "3212                1               1  \n",
       "3213                1               1  \n",
       "\n",
       "[3214 rows x 16 columns]"
      ]
     },
     "execution_count": 28,
     "metadata": {},
     "output_type": "execute_result"
    }
   ],
   "source": [
    "# добавляем в таблицу сведения о тарифе\n",
    "# далее можно складывать и вычитать столбцы, все лимиты и исходные данные будут у каждого тарифа свои\n",
    "full_user_data\\\n",
    "    .merge(data_users[['user_id', 'tariff']], on='user_id', how='left', suffixes=('', 'right'))\\\n",
    "    .merge(data_tariffs.rename(columns={'tariff_name': 'tariff'}), on='tariff', how='left')"
   ]
  },
  {
   "cell_type": "markdown",
   "metadata": {},
   "source": [
    "<hr style=\"border: 2px solid orange;\" />"
   ]
  },
  {
   "cell_type": "markdown",
   "metadata": {},
   "source": [
    "3.1 Анализ показателя \"количество минут в месяц\"\n",
    "Для анализа данного показателя необходимо сформировать 2 новых датафрейма.\n",
    "\n",
    "Первый - smart_data_calls - он будет содержать информацию о клиентах пользующихся тарифным планом \"smart\".\n",
    "Второй - ultra_data_calls - он будет содержать информацию о клиентах пользующихся тарифным планом \"ultra\".\n",
    "Для начала расчитаю среднее количество использованных минут для каждого месяца для каждого тарифного плана по отдельности и среднее количество минут для каждого тарифа. Также посчитаю дисперсию и стандартное отклонение для каждого тарифного плана. После чего визуально сравню полученные результаты на столбчатой гистограмме, где тарифному плану smart будет соответствовать фиолетовый цвет, а тарифному плану ultra будет соответствовать синий цвет.\n",
    "\n"
   ]
  },
  {
   "cell_type": "code",
   "execution_count": 29,
   "metadata": {},
   "outputs": [
    {
     "data": {
      "image/png": "[encoded data removed]",
      "text/plain": [
       "<Figure size 1008x504 with 1 Axes>"
      ]
     },
     "metadata": {
      "needs_background": "light"
     },
     "output_type": "display_data"
    },
    {
     "data": {
      "image/png": "[encoded data removed]",
      "text/plain": [
       "<Figure size 1008x504 with 1 Axes>"
      ]
     },
     "metadata": {
      "needs_background": "light"
     },
     "output_type": "display_data"
    },
    {
     "name": "stdout",
     "output_type": "stream",
     "text": [
      "Среднее количество минут для тарифа \"smart\": \u001b[32m 386 минут \u001b[0m\n",
      "Среднее количество минут для тарифа \"ultra\": \u001b[32m 495 минут \u001b[0m\n",
      "Разница: \u001b[32m -109 минут \u001b[0m\n",
      "\n",
      "Дисперсия тарифа \"smart\": \u001b[32m 36219.32 \u001b[0m\n",
      "Дисперсия тарифа \"ultra\": \u001b[32m 100873.63 \u001b[0m\n",
      "\n",
      "Стандартное отклонение для тарифа \"smart\": \u001b[32m 190.31 \u001b[0m\n",
      "Стандартное отклонение для \"ultra\": \u001b[32m 317.61 \u001b[0m\n",
      "Разница: \u001b[32m 40.08 %\n"
     ]
    }
   ],
   "source": [
    "order_mapping = dict(zip(['Январь', 'Февраль', 'Март', 'Апрель', 'Май', 'Июнь', 'Июль', 'Август', \n",
    "                   'Сентябрь', 'Октябрь', 'Ноябрь', 'Декабрь'], [*range(1, 13)]))\n",
    "\n",
    "# Создаю df в котором будет среднее количество минут для каждого месяца для тарифа \"smart\"\n",
    "smart_data_calls = full_user_data.query('tariff == \"smart\"').groupby(['tariff','month']).agg({'call_duration':'mean'}).reset_index()\n",
    "\n",
    "# Создаю df в котором будет среднее количество минут для каждого месяца для тарифа \"ultra\"\n",
    "ultra_data_calls = full_user_data.query('tariff == \"ultra\"').groupby(['tariff','month']).agg({'call_duration':'mean'}).reset_index()\n",
    "\n",
    "# Рисую график для тарифа \"smart\" - фиолетовый цвет\n",
    "ax = (\n",
    "    smart_data_calls.assign(month_order = lambda row: row['month'].map(order_mapping))\\\n",
    "            .sort_values(by='month_order')\n",
    "            .plot(y='call_duration', x='month', kind='bar', title='Среднее количество минут в месяц', figsize=(14, 7), alpha=0.3, color='purple', grid=True, legend=False)\n",
    ")\n",
    "# Рисую график для тарифа \"ultra\" - синий цвет\n",
    "(\n",
    "    ultra_data_calls.assign(month_order = lambda row: row['month'].map(order_mapping))\\\n",
    "            .sort_values(by='month_order')\n",
    "            .plot(y='call_duration', x='month', kind='bar', title='Среднее количество минут в месяц', figsize=(14, 7), alpha=0.3, color='blue', grid=True, legend=False)\n",
    ")\n",
    "plt.xticks(rotation=0)\n",
    "plt.xlabel('Месяц')\n",
    "plt.ylabel('Минуты')\n",
    "plt.show() # рисую гистограмму\n",
    "\n",
    "smart_mean = int(smart_data_calls['call_duration'].mean()) # расчёт среднего количества минут для \"smart\"\n",
    "ultra_mean = int(ultra_data_calls['call_duration'].mean()) # расчёт среднего количества минут для \"ultra\"\n",
    "\n",
    "# Подсчёт средних значений для каждого тарифа\n",
    "print('Среднее количество минут для тарифа \"smart\":', ClrG, smart_mean, 'минут', ClrDef)\n",
    "print('Среднее количество минут для тарифа \"ultra\":', ClrG, ultra_mean, 'минут', ClrDef)\n",
    "print('Разница:', ClrG, smart_mean - ultra_mean, 'минут', ClrDef)\n",
    "print()\n",
    "\n",
    "# Расчёт дисперсии для тарифа \"smart\"\n",
    "smart = full_user_data.query('tariff == \"smart\"')['call_duration'] # df с тарифом \"smart\"\n",
    "smart_var = np.var(smart, ddof=1)  # расчёт дисперсии\n",
    "print('Дисперсия тарифа \"smart\":', ClrG, '{:.2f}'.format(smart_var), ClrDef)\n",
    "\n",
    "# Расчёт дисперсии для тарифа \"ultra\"\n",
    "ultra = full_user_data.query('tariff == \"ultra\"')['call_duration'] # df с тарифом \"ultra\"\n",
    "ultra_var = np.var(ultra, ddof=1) # расчёт дисперсии\n",
    "print('Дисперсия тарифа \"ultra\":', ClrG, '{:.2f}'.format(ultra_var), ClrDef)\n",
    "print('')\n",
    "\n",
    "# Расчёт стандартного отклонения для тарифа \"smart\"\n",
    "smart_std = np.std(smart, ddof=1) # расчёт стандартного отклонения\n",
    "print('Стандартное отклонение для тарифа \"smart\":', ClrG, '{:.2f}'.format(smart_std), ClrDef)\n",
    "\n",
    "# Расчёт стандартного отклонения для тарифа \"ultra\"\n",
    "ultra_std = np.std(ultra, ddof=1) # расчёт стандартного отклонения\n",
    "print('Стандартное отклонение для \"ultra\":', ClrG, '{:.2f}'.format(ultra_std), ClrDef)\n",
    "\n",
    "print('Разница:', ClrG, '{:.2f}'.format(100 - (smart_std / ultra_std * 100)), '%')"
   ]
  },
  {
   "cell_type": "markdown",
   "metadata": {},
   "source": [
    "Проанализировав полученные результаты, следует отметить следующие важные особенности:\n",
    "\n",
    "Количество израсходованных минут у тарифа ultra в каждом месяце больше чем у тарифа smart\n",
    "Среднее количество израсходованных минут у тарифа ultra на 141 минуту больше чем у у тарифа smart\n",
    "Больше всего минут для обоих тарифов было израсходовано в декабре, а меньше всего в феврале\n",
    "Данные показатели говорят о том, что пользователи с тарифом ultra расходуют в среднем на 26% минут больше, чем пользователи с тарифом smart."
   ]
  },
  {
   "cell_type": "markdown",
   "metadata": {},
   "source": [
    "<a class=\"anchor\" id=\"31-bullet\">"
   ]
  },
  {
   "cell_type": "markdown",
   "metadata": {},
   "source": [
    "### Способ 1 - ручной\n",
    "\n",
    "Используем параметр <code>order</code> из функции <code>sns.barplot</code> - ручками задаем нужный порядок"
   ]
  },
  {
   "cell_type": "code",
   "execution_count": 30,
   "metadata": {},
   "outputs": [],
   "source": [
    "import seaborn as sns"
   ]
  },
  {
   "cell_type": "code",
   "execution_count": 31,
   "metadata": {},
   "outputs": [
    {
     "data": {
      "image/png": "[encoded data removed]",
      "text/plain": [
       "<Figure size 864x432 with 1 Axes>"
      ]
     },
     "metadata": {
      "needs_background": "light"
     },
     "output_type": "display_data"
    }
   ],
   "source": [
    "fig, ax = plt.subplots(figsize=(12, 6))\n",
    "sns.barplot(data=ultra_data_calls, x='month', y='call_duration', \n",
    "            order=['Январь', 'Февраль', 'Март', 'Апрель', 'Май', 'Июнь', 'Июль', 'Август', \n",
    "                   'Сентябрь', 'Октябрь', 'Ноябрь', 'Декабрь'], ax=ax, color='#3690FF', label='Ultra')\n",
    "ax.set_title('Среднемесячная длительность звонков на тарифах')\n",
    "ax.set_xlabel('Месяц')\n",
    "ax.set_ylabel('Минуты')\n",
    "ax.grid(color='grey', alpha=0.5, axis='y')\n",
    "ax.legend()\n",
    "plt.show();"
   ]
  },
  {
   "cell_type": "markdown",
   "metadata": {},
   "source": [
    "### Способ 2 - автоматически и немного ручками"
   ]
  },
  {
   "cell_type": "code",
   "execution_count": 32,
   "metadata": {},
   "outputs": [],
   "source": [
    "order_mapping = dict(zip(['Январь', 'Февраль', 'Март', 'Апрель', 'Май', 'Июнь', 'Июль', 'Август', \n",
    "                   'Сентябрь', 'Октябрь', 'Ноябрь', 'Декабрь'], [*range(1, 13)]))"
   ]
  },
  {
   "cell_type": "code",
   "execution_count": 33,
   "metadata": {},
   "outputs": [],
   "source": [
    "df_viz = ultra_data_calls.assign(month_order = lambda row: row['month'].map(order_mapping))\\\n",
    "            .sort_values(by='month_order')"
   ]
  },
  {
   "cell_type": "code",
   "execution_count": 34,
   "metadata": {},
   "outputs": [
    {
     "data": {
      "image/png": "[encoded data removed]",
      "text/plain": [
       "<Figure size 864x432 with 1 Axes>"
      ]
     },
     "metadata": {
      "needs_background": "light"
     },
     "output_type": "display_data"
    }
   ],
   "source": [
    "fig, ax = plt.subplots(figsize=(12, 6))\n",
    "sns.barplot(data=df_viz, x='month', y='call_duration', ax=ax, color='#3690FF', label='Ultra')\n",
    "ax.set_title('Среднемесячная длительность звонков на тарифах')\n",
    "ax.set_xlabel('Месяц')\n",
    "ax.set_ylabel('Минуты')\n",
    "ax.grid(color='grey', alpha=0.5, axis='y')\n",
    "ax.legend()\n",
    "plt.show();"
   ]
  },
  {
   "cell_type": "markdown",
   "metadata": {},
   "source": [
    "3.2 Анализ показателя \"количество сообщений в месяц\"\n",
    "Для анализа данного показателя необходимо сформировать 2 новых датафрейма.\n",
    "\n",
    "Первый - smart_data_messages - он будет содержать информацию о клиентах пользующихся тарифным планом \"smart\".\n",
    "Второй - ultra_data_messages - он будет содержать информацию о клиентах пользующихся тарифным планом \"ultra\".\n",
    "Для начала расчитаю среднее количество отправленных сообщений в каждом месяце для каждого тарифного плана и среднее количество отправленных смс для каждого тарифа. Также посчитаю дисперсию и стандартное отклонение для каждого тарифного плана. После чего визуально сравню полученные результаты на столбчатой гистограмме, где тарифному плану smart будет соответствовать фиолетовый цвет, а тарифному плану ultra будет соответствовать синий цвет."
   ]
  },
  {
   "cell_type": "code",
   "execution_count": 35,
   "metadata": {},
   "outputs": [
    {
     "data": {
      "image/png": "[encoded data removed]",
      "text/plain": [
       "<Figure size 1008x504 with 1 Axes>"
      ]
     },
     "metadata": {
      "needs_background": "light"
     },
     "output_type": "display_data"
    },
    {
     "name": "stdout",
     "output_type": "stream",
     "text": [
      "Среднее количество смс для тарифа \"smart\": \u001b[32m 31 смс \u001b[0m\n",
      "Среднее количество смс для тарифа \"ultra\": \u001b[32m 43 смс \u001b[0m\n",
      "Разница: \u001b[32m -12 смс \u001b[0m\n",
      "\n",
      "Дисперсия тарифа \"smart\": \u001b[32m 796.81 \u001b[0m\n",
      "Дисперсия тарифа \"ultra\": \u001b[32m 2285.27 \u001b[0m\n",
      "\n",
      "Стандартное отклонение для тарифа \"smart\": \u001b[32m 28.23 \u001b[0m\n",
      "Стандартное отклонение для \"ultra\": \u001b[32m 47.80 \u001b[0m\n",
      "Разница: \u001b[32m 40.95 %\n"
     ]
    }
   ],
   "source": [
    "order_mapping = dict(zip(['Январь', 'Февраль', 'Март', 'Апрель', 'Май', 'Июнь', 'Июль', 'Август', \n",
    "                   'Сентябрь', 'Октябрь', 'Ноябрь', 'Декабрь'], [*range(1, 13)]))\n",
    "\n",
    "# Создаю df в котором будет среднее количество смс для каждого месяца для тарифа \"smart\"\n",
    "smart_data_messages = full_user_data.query('tariff == \"smart\"').groupby(['tariff','month']).agg({'message_count':'mean'}).reset_index()\n",
    "\n",
    "# Создаю df в котором будет среднее количество смс для каждого месяца для тарифа \"ultra\"\n",
    "ultra_data_messages = full_user_data.query('tariff == \"ultra\"').groupby(['tariff','month']).agg({'message_count':'mean'}).reset_index()\n",
    "\n",
    "# Рисую график для тарифа \"smart\" - фиолетовый цвет\n",
    "ax = (\n",
    "    smart_data_messages.assign(month_order = lambda row: row['month'].map(order_mapping))\\\n",
    "    .sort_values(by='month_order')\n",
    "    .plot(y='message_count', x='month', kind='bar', title='Среднее количество смс в месяц', figsize=(14, 7), alpha=0.3, color='purple', grid=True, legend=False)\n",
    ")\n",
    "# Рисую график для тарифа \"ultra\" - синий цвет\n",
    "(\n",
    "    ultra_data_messages.assign(month_order = lambda row: row['month'].map(order_mapping))\\\n",
    "    .sort_values(by='month_order')\n",
    "    .plot(y='message_count', x='month', ax=ax, kind='bar', color='blue', alpha=0.25, legend=False)\n",
    ")\n",
    "plt.xticks(rotation=0)\n",
    "plt.xlabel('Месяц')\n",
    "plt.ylabel('СМС')\n",
    "plt.show() # рисую гистограмму\n",
    "\n",
    "smart_mean = int(smart_data_messages['message_count'].mean()) # расчёт среднего количества смс для \"smart\"\n",
    "ultra_mean = int(ultra_data_messages['message_count'].mean()) # расчёт среднего количества смс для \"ultra\"\n",
    "\n",
    "# Подсчёт средних значений для каждого тарифа\n",
    "print('Среднее количество смс для тарифа \"smart\":', ClrG, smart_mean, 'смс', ClrDef)\n",
    "print('Среднее количество смс для тарифа \"ultra\":', ClrG, ultra_mean, 'смс', ClrDef)\n",
    "print('Разница:', ClrG, smart_mean - ultra_mean, 'смс', ClrDef)\n",
    "print()\n",
    "\n",
    "# Расчёт дисперсии для тарифа \"smart\"\n",
    "smart = full_user_data.query('tariff == \"smart\"')['message_count'] # df с тарифом \"smart\"\n",
    "smart_var = np.var(smart, ddof=1)  # расчёт дисперсии\n",
    "print('Дисперсия тарифа \"smart\":', ClrG, '{:.2f}'.format(smart_var), ClrDef)\n",
    "\n",
    "# Расчёт дисперсии для тарифа \"ultra\"\n",
    "ultra = full_user_data.query('tariff == \"ultra\"')['message_count'] # df с тарифом \"ultra\"\n",
    "ultra_var = np.var(ultra, ddof=1) # расчёт дисперсии\n",
    "print('Дисперсия тарифа \"ultra\":', ClrG, '{:.2f}'.format(ultra_var), ClrDef)\n",
    "print('')\n",
    "\n",
    "# Расчёт стандартного отклонения для тарифа \"smart\"\n",
    "smart_std = np.std(smart, ddof=1) # расчёт стандартного отклонения\n",
    "print('Стандартное отклонение для тарифа \"smart\":', ClrG, '{:.2f}'.format(smart_std), ClrDef)\n",
    "\n",
    "# Расчёт стандартного отклонения для тарифа \"ultra\"\n",
    "ultra_std = np.std(ultra, ddof=1) # расчёт стандартного отклонения\n",
    "print('Стандартное отклонение для \"ultra\":', ClrG, '{:.2f}'.format(ultra_std), ClrDef)\n",
    "\n",
    "print('Разница:', ClrG, '{:.2f}'.format(100 - (smart_std / ultra_std * 100)), '%')"
   ]
  },
  {
   "cell_type": "markdown",
   "metadata": {},
   "source": [
    "Проанализировав полученные результаты, следует отметить следующие важные особенности:\n",
    "\n",
    "Количество отправленных смс для тарифа ultra в каждом месяце больше чем для тарифа smart\n",
    "Среднее количество отправленных смс в тарифе ultra на 19 смс больше чем в тарифе smart\n",
    "Стандартное отклонения для тарифа ultra почти на 40% больше чем для тарифа smart\n",
    "Больше всего минут для обоих тарифов было израсходовано в декабре, а меньше всего в феврале\n",
    "Данные показатели говорят о том, что пользователи с тарифом ultra расходуют в среднем на 34% больше смс сообщений , чем пользователи с тарифом smart."
   ]
  },
  {
   "cell_type": "markdown",
   "metadata": {},
   "source": [
    "3.3 Анализ показателя \"объём интернет-трафика в месяц\"\n",
    "Для анализа данного показателя необходимо сформировать 2 новых датафрейма.\n",
    "\n",
    "Первый - smart_data_internet - он будет содержать информацию о клиентах пользующихся тарифным планом \"smart\".\n",
    "Второй - ultra_data_internet - он будет содержать информацию о клиентах пользующихся тарифным планом \"ultra\".\n",
    "Для начала расчитаю среднее количество использованного интернет-трафика в каждом месяце для каждого тарифного плана и среднее количество использованного интернет-трафика для каждого тарифа. Также посчитаю дисперсию и стандартное отклонение для каждого тарифного плана. После чего визуально сравню полученные результаты на столбчатой гистограмме, где тарифному плану smart будет соответствовать зелёный цвет, а тарифному плану ultra будет соответствовать оранжевый цвет."
   ]
  },
  {
   "cell_type": "code",
   "execution_count": 36,
   "metadata": {},
   "outputs": [
    {
     "data": {
      "image/png": "[encoded data removed]",
      "text/plain": [
       "<Figure size 1008x504 with 1 Axes>"
      ]
     },
     "metadata": {
      "needs_background": "light"
     },
     "output_type": "display_data"
    },
    {
     "name": "stdout",
     "output_type": "stream",
     "text": [
      "Средний объём трафика для тарифа \"smart\": \u001b[32m 15077 мб \u001b[0m\n",
      "Средний объём трафика для тарифа \"ultra\": \u001b[32m 18222 мб \u001b[0m\n",
      "Разница: \u001b[32m -3145 мб \u001b[0m\n",
      "\n",
      "Дисперсия тарифа \"smart\": \u001b[32m 34545911.13 \u001b[0m\n",
      "Дисперсия тарифа \"ultra\": \u001b[32m 101935621.05 \u001b[0m\n",
      "\n",
      "Стандартное отклонение для тарифа \"smart\": \u001b[32m 5877.58 \u001b[0m\n",
      "Стандартное отклонение для \"ultra\": \u001b[32m 10096.32 \u001b[0m\n",
      "Разница: \u001b[32m 41.78 %\n"
     ]
    }
   ],
   "source": [
    "order_mapping = dict(zip(['Январь', 'Февраль', 'Март', 'Апрель', 'Май', 'Июнь', 'Июль', 'Август', \n",
    "                   'Сентябрь', 'Октябрь', 'Ноябрь', 'Декабрь'], [*range(1, 13)]))\n",
    "\n",
    "# Создаю df в котором будет средний объём трафика для каждого месяца для тарифа \"smart\"\n",
    "smart_data_internet = full_user_data.query('tariff == \"smart\"').groupby(['tariff','month']).agg({'trafic_used':'mean'}).reset_index()\n",
    "\n",
    "# Создаю df в котором будет средний объём трафика для каждого месяца для тарифа \"ultra\"\n",
    "ultra_data_internet = full_user_data.query('tariff == \"ultra\"').groupby(['tariff','month']).agg({'trafic_used':'mean'}).reset_index()\n",
    "\n",
    "# Рисую график для тарифа \"smart\" \n",
    "ax = (\n",
    "    smart_data_internet.assign(month_order = lambda row: row['month'].map(order_mapping))\\\n",
    "    .sort_values(by='month_order')\n",
    "    .plot(y='trafic_used', x='month', kind='bar', title='Средний объём трафика в месяц (в мб)', figsize=(14, 7), alpha=0.5, color='purple', grid=True, legend=False)\n",
    ")\n",
    "# Рисую график для тарифа \"ultra\" \n",
    "(\n",
    "    ultra_data_internet.assign(month_order = lambda row: row['month'].map(order_mapping))\\\n",
    "    .sort_values(by='month_order')\n",
    "    .plot(y='trafic_used', x='month', ax=ax, kind='bar', color='blue', alpha=0.4, legend=False)\n",
    ")\n",
    "plt.xticks(rotation=0)\n",
    "plt.xlabel('Месяц')\n",
    "plt.ylabel('Трафик')\n",
    "plt.show() # рисую гистограмму\n",
    "\n",
    "smart_mean = int(smart_data_internet['trafic_used'].mean()) # расчёт среднего объёма трафика для \"smart\"\n",
    "ultra_mean = int(ultra_data_internet['trafic_used'].mean()) # расчёт среднего объёма трафика для \"ultra\"\n",
    "\n",
    "# Подсчёт средних значений для каждого тарифа\n",
    "print('Средний объём трафика для тарифа \"smart\":', ClrG, smart_mean, 'мб', ClrDef)\n",
    "print('Средний объём трафика для тарифа \"ultra\":', ClrG, ultra_mean, 'мб', ClrDef)\n",
    "print('Разница:', ClrG, smart_mean - ultra_mean, 'мб', ClrDef)\n",
    "print()\n",
    "\n",
    "# Расчёт дисперсии для тарифа \"smart\"\n",
    "smart = full_user_data.query('tariff == \"smart\"')['trafic_used'] # df с тарифом \"smart\"\n",
    "smart_var = np.var(smart, ddof=1)  # расчёт дисперсии\n",
    "print('Дисперсия тарифа \"smart\":', ClrG, '{:.2f}'.format(smart_var), ClrDef)\n",
    "\n",
    "# Расчёт дисперсии для тарифа \"ultra\"\n",
    "ultra = full_user_data.query('tariff == \"ultra\"')['trafic_used'] # df с тарифом \"ultra\"\n",
    "ultra_var = np.var(ultra, ddof=1) # расчёт дисперсии\n",
    "print('Дисперсия тарифа \"ultra\":', ClrG, '{:.2f}'.format(ultra_var), ClrDef)\n",
    "print('')\n",
    "\n",
    "# Расчёт стандартного отклонения для тарифа \"smart\"\n",
    "smart_std = np.std(smart, ddof=1) # расчёт стандартного отклонения\n",
    "print('Стандартное отклонение для тарифа \"smart\":', ClrG, '{:.2f}'.format(smart_std), ClrDef)\n",
    "\n",
    "# Расчёт стандартного отклонения для тарифа \"ultra\"\n",
    "ultra_std = np.std(ultra, ddof=1) # расчёт стандартного отклонения\n",
    "print('Стандартное отклонение для \"ultra\":', ClrG, '{:.2f}'.format(ultra_std), ClrDef)\n",
    "\n",
    "print('Разница:', ClrG, '{:.2f}'.format(100 - (smart_std / ultra_std * 100)), '%')"
   ]
  },
  {
   "cell_type": "markdown",
   "metadata": {},
   "source": [
    "Проанализировав полученные результаты, следует отметить следующие важные особенности:\n",
    "\n",
    "Объём интернет-трафика для тарифа ultra в каждом месяце больше чем для тарифа smart\n",
    "Средний объём трафика для тарифа ultra на 3 гб больше чем для тарифа smart\n",
    "Стандартное отклонения для тарифа ultra почти на 40% больше чем для тарифа smart\n",
    "Больше всего интернет трафика для обоих тарифов было израсходовано в декабре, а меньше всего в феврале."
   ]
  },
  {
   "cell_type": "markdown",
   "metadata": {},
   "source": [
    "3.4 Анализ показателя \"Суммарная выручка по тарифному плану в месяц\"\n",
    "Для анализа данного показателя необходимо сформировать 2 новых датафрейма.\n",
    "\n",
    "Первый - smart_revenue - он будет содержать информацию о клиентах пользующихся тарифным планом \"smart\". Второй - ultra_revenue - он будет содержать информацию о клиентах пользующихся тарифным планом \"ultra\". После чего рассчитаю сумарную выручку для каждого тарифного плана в месяц и полученные результаты визуализирую на столбчатой гистограмме, где тарифному плану smart будет соответствовать серый цвет, а тарифному плану ultra будет соответствовать фиолетовый цвет."
   ]
  },
  {
   "cell_type": "code",
   "execution_count": 37,
   "metadata": {},
   "outputs": [
    {
     "data": {
      "image/png": "[encoded data removed]",
      "text/plain": [
       "<Figure size 1008x504 with 1 Axes>"
      ]
     },
     "metadata": {
      "needs_background": "light"
     },
     "output_type": "display_data"
    },
    {
     "name": "stdout",
     "output_type": "stream",
     "text": [
      "Средний объём ежемесячной выручки для тарифа \"smart\": \u001b[32m 239502.58 рублей \u001b[0m\n",
      "Средний объём ежемесячной выручки для тарифа \"ultra\": \u001b[32m 170642.90 рублей \u001b[0m\n",
      "Разница: \u001b[32m 40.4 %\n"
     ]
    }
   ],
   "source": [
    "# Выручка по тарифному плану \"Ultra\"\n",
    "ultra_revenue = full_user_data.query('tariff ==\"ultra\"').groupby(by='month').agg({'total_pay':'sum'}).reset_index()\n",
    "\n",
    "# Выручка по тарифному плану \"Smart\"\n",
    "smart_revenue = full_user_data.query('tariff ==\"smart\"').groupby(by='month').agg({'total_pay':'sum'}).reset_index()\n",
    "\n",
    "# Рисую график для тарифа \"ultra\" - фиолетовый цвет\n",
    "ax = (\n",
    "    ultra_revenue\n",
    "    .sort_values(by='total_pay', ascending=False)\n",
    "    .plot(y='total_pay', x='month', kind='bar', title='Выручка по тарифному плану', figsize=(14, 7), alpha=0.4, color='purple', grid=True, legend=False)\n",
    ")\n",
    "# Рисую график для тарифа \"smart\" - серый цвет\n",
    "(\n",
    "    smart_revenue\n",
    "    .sort_values(by='total_pay', ascending=False)\n",
    "    .plot(y='total_pay', x='month', ax=ax, kind='bar', color='blue', alpha=0.4, legend=False)\n",
    ")\n",
    "plt.xticks(rotation=0)\n",
    "plt.xlabel('Месяц')\n",
    "plt.ylabel('Выручка')\n",
    "plt.show() # рисую гистограмму\n",
    "\n",
    "# Подсчёт средних значений для каждого тарифа\n",
    "print('Средний объём ежемесячной выручки для тарифа \"smart\":', ClrG, '{:.2f}'.format(smart_revenue['total_pay'].mean()), 'рублей', ClrDef)\n",
    "print('Средний объём ежемесячной выручки для тарифа \"ultra\":', ClrG, '{:.2f}'.format(ultra_revenue['total_pay'].mean()), 'рублей', ClrDef)\n",
    "print('Разница:', ClrG, '{:.1f}'.format((smart_revenue['total_pay'].mean() / ultra_revenue['total_pay'].mean() * 100) - 100), '%')"
   ]
  },
  {
   "cell_type": "markdown",
   "metadata": {},
   "source": [
    "Шаг 4. Проверка гипотез\n",
    "Средняя выручка пользователей тарифов «Ультра» и «Смарт» различается\n",
    "Средняя выручка пользователей из Москвы отличается от выручки пользователей из других регионов"
   ]
  },
  {
   "cell_type": "markdown",
   "metadata": {},
   "source": [
    "4.1 Средняя выручка пользователей тарифов «Ультра» и «Смарт» различается\n",
    "Для проверки данной гипотезы, необходимо воспользоваться методом проверки гипотезы о равенстве средних двух генеральных совокупностей. Таким образом:\n",
    "\n",
    "Нулевая гипотеза будет сформулирована следующим образом: средняя выручка пользователей тарифа \"Ультра\" равна средней выручке пользователей тарифа \"Смарт\".\n",
    "Альтернативная гипотеза звучит следующим образом: средняя выручка пользователей тарифа «Ультра» не равна средней выручке пользователей тарифа «Смарт»\n",
    "Чтобы проверить гипотезу о равенстве среднего двух генеральных совокупностей по взятым из них выборкам, воспользуюсь методом: scipy.stats.ttest_ind()."
   ]
  },
  {
   "cell_type": "code",
   "execution_count": 38,
   "metadata": {},
   "outputs": [
    {
     "name": "stdout",
     "output_type": "stream",
     "text": [
      "p-значение составляет: \u001b[32m 3.359236593893765e-40\n",
      "Нулевая гипотеза Отвергнута!\n"
     ]
    }
   ],
   "source": [
    "# Создаю таблицу для тарифа \"smart\" где для каждого user_id будет посчитано средняя сумма расходов\n",
    "array_smart = full_user_data.query('tariff == \"smart\"').groupby('user_id').agg({'total_pay':'mean'}).reset_index()\n",
    "\n",
    "# Создаю таблицу для тарифа \"ultra\" где для каждого user_id будет посчитано средняя сумма расходов\n",
    "array_ultra = full_user_data.query('tariff == \"ultra\"').groupby('user_id').agg({'total_pay':'mean'}).reset_index()\n",
    "\n",
    "# Делаю выборку из 100 строк для проверки гипотезы\n",
    "array_smart = array_smart['total_pay'].tolist()\n",
    "array_ultra = array_ultra['total_pay'].tolist()\n",
    "\n",
    "alpha = .05 # критический уровень статистической значимости\n",
    "            # если p-value окажется меньше него - отвергнем гипотезу\n",
    "# Проверка нулевой гипотезы\n",
    "results = st.ttest_ind(array_smart, array_ultra)\n",
    "\n",
    "print('p-значение составляет:', ClrG, results.pvalue)\n",
    "\n",
    "if (results.pvalue < alpha):\n",
    "    print(\"Нулевая гипотеза Отвергнута!\")\n",
    "else:\n",
    "    print(\"Нулевая гипотеза не отвергнута!\")"
   ]
  },
  {
   "cell_type": "markdown",
   "metadata": {},
   "source": [
    "Полученное p-значение крайне маленькое и это в свою очередь говорит о том, что средняя выручка пользователей тарифов «Ультра» и «Смарт» различается и она не равна. Таким образом нулевая гипотеза была отвергнута."
   ]
  },
  {
   "cell_type": "markdown",
   "metadata": {},
   "source": [
    "<a class=\"anchor\" id=\"32-bullet\">"
   ]
  },
  {
   "cell_type": "markdown",
   "metadata": {},
   "source": [
    "4.2 Средняя выручка пользователей из Москвы отличается от выручки пользователей из других регионов\n",
    "Для проверки данной гипотезы, необходимо воспользоваться методом гипотезы о равенстве средних двух генеральных совокупностей. Таким образом:\n",
    "\n",
    "Нулевая гипотеза будет сформулирована следующим образом: средняя выручка пользователей из Москвы равна средней выручке пользователей из других регионов.\n",
    "\n",
    "Альтернативная гипотеза звучит следующим образом: средняя выручка пользователей из Москвы не равна средней выручке пользователей из других регионов.\n",
    "\n",
    "Чтобы проверить гипотезу о равенстве среднего двух генеральных совокупностей по взятым из них выборкам, воспользуюсь методом: scipy.stats.ttest_ind()."
   ]
  },
  {
   "cell_type": "code",
   "execution_count": 39,
   "metadata": {},
   "outputs": [],
   "source": [
    "data_city = data_users[['user_id', 'city']] # создаю df с user_id и названием города\n",
    "# Добавляю столбец 'city' в таблицу 'clear_user_data'\n",
    "full_user_data = full_user_data.merge(data_city, how = 'left', on = 'user_id')"
   ]
  },
  {
   "cell_type": "code",
   "execution_count": 40,
   "metadata": {},
   "outputs": [
    {
     "name": "stdout",
     "output_type": "stream",
     "text": [
      "p-значение составляет: \u001b[32m 0.3703508161037724\n",
      "Нулевая гипотеза не отвергнута!\n"
     ]
    }
   ],
   "source": [
    "# Создаю таблицу для Москвы где для каждого user_id будет посчитано средняя сумма расходов\n",
    "array_moskow = full_user_data.query('city == \"Москва\"').groupby('user_id').agg({'total_pay':'mean'}).reset_index()\n",
    "\n",
    "# Создаю таблицу для Регионов где для каждого user_id будет посчитано средняя сумма расходов\n",
    "array_other_city = full_user_data.query('city != \"Москва\"').groupby('user_id').agg({'total_pay':'mean'}).reset_index()\n",
    "\n",
    "# Делаю выборку из 80 строк для проверки гипотезы\n",
    "array_moskow = array_moskow['total_pay'].tolist()\n",
    "array_other_city = array_other_city['total_pay'].tolist()\n",
    "\n",
    "alpha = .05 # критический уровень статистической значимости\n",
    "            # если p-value окажется меньше него - отвергнем гипотезу\n",
    "# Проверка нулевой гипотезы\n",
    "results = st.ttest_ind(array_moskow, array_other_city)\n",
    "\n",
    "print('p-значение составляет:', ClrG, results.pvalue)\n",
    "\n",
    "if (results.pvalue < alpha):\n",
    "    print(\"Нулевая гипотеза Отвергнута!\")\n",
    "else:\n",
    "    print(\"Нулевая гипотеза не отвергнута!\")"
   ]
  },
  {
   "cell_type": "markdown",
   "metadata": {},
   "source": [
    "Полученное p-значение довольно большое и это в свою очередь говорит о том, что средняя выручка пользователей из Москвы и пользователей из остальных регионов не различается и она равна. Таким образом нулевая гипотеза не может быть отвергнута."
   ]
  },
  {
   "cell_type": "markdown",
   "metadata": {},
   "source": [
    "Шаг 5. Общий вывод\n",
    "В ходе проведения комплексного анализа мной были проанализированы два тарифных плана телеком компании : Смарт и Ультра. В ходе анализа были выявлены следующие интересные факторы:\n",
    "\n",
    "Количество израсходованных минут, отправленных смс и объём интернет-трафика у тарифа ultra в каждом месяце больше чем у тарифа smart.\n",
    "Для тарифа ultra характерны следующие особенности:\n",
    "Количество израсходованных минут в месяц на 141 минуту или 26% больше чем у тарифа smart.\n",
    "Количество отправленных смс в месяц на 19 смс или 34% больше чем в тарифе smart.\n",
    "Объём используемого интернет-трафика в месяц на 18% больше чем для тарифа smart, разница составляет 3.3 гб.\n",
    "Больше всего минут, смс и интернет трафика было израсходовано в Декабре, наименьшее количество израсходованных минут и смс было в Феврале, а интернет трафика в Январе.\n",
    "Так же в ходе анализа были проверены следующие гипотезы:\n",
    "\n",
    "Средняя выручка пользователей тарифов «Ультра» и «Смарт» различается:\n",
    "Данная гипотеза не была отвергнута, так как удалось выяснить, что средняя выручка пользователей тарифов «Ультра» и «Смарт» различается и она не равна.\n",
    "Средняя выручка пользователей из Москвы отличается от выручки пользователей из других регионов\n",
    "Данная гипотеза была отвергнута, так как в ходе анализа удалось выяснить, что средняя выручка пользователей из Москвы и пользователей из остальных регионов не различается и она примерно равна.\n",
    "Таким образом, резюмируя вышеизложенную информацию, можно сформулировать ответ на поставленный вопрос: \"Какой тарифный план лучше для телеком компании?\". По-моему мнению, \"лучшим\" тарифом для телеком компании является тарифный план Смарт, так как пользователи данного тарифного плана расходуют меньше минут, смс и объёма интернет-трафика, но при этом в среднем они тратят на связь на 60 % больше, чем пользователи тарифа Ультра. Таким образом при продвижении тарифного плана Смарт для телеком компании будет снижаться общий объём выделяемых ресурсов (минут, смс, гб), что в свою очередь позволит значителько экономить на операционных издержках. То есть тариф Смарт менее ресурсозатратный для компании, но при этом приносит больше ежемесячной прибыли чем тариф Ультра."
   ]
  }
 ],
 "metadata": {
  "ExecuteTimeLog": [
   {
    "duration": 1828,
    "start_time": "2022-01-18T18:59:33.745Z"
   },
   {
    "duration": 271,
    "start_time": "2022-01-18T18:59:35.576Z"
   },
   {
    "duration": 81,
    "start_time": "2022-01-18T18:59:35.853Z"
   },
   {
    "duration": 6,
    "start_time": "2022-01-18T18:59:35.937Z"
   },
   {
    "duration": 51,
    "start_time": "2022-01-18T18:59:35.946Z"
   },
   {
    "duration": 32,
    "start_time": "2022-01-18T18:59:36.000Z"
   },
   {
    "duration": 29,
    "start_time": "2022-01-18T18:59:36.036Z"
   },
   {
    "duration": 35,
    "start_time": "2022-01-18T18:59:36.068Z"
   },
   {
    "duration": 9,
    "start_time": "2022-01-18T18:59:36.134Z"
   },
   {
    "duration": 3957,
    "start_time": "2022-01-18T18:59:36.145Z"
   },
   {
    "duration": 4,
    "start_time": "2022-01-18T18:59:40.104Z"
   },
   {
    "duration": 53,
    "start_time": "2022-01-18T18:59:40.110Z"
   },
   {
    "duration": 81,
    "start_time": "2022-01-18T18:59:40.165Z"
   },
   {
    "duration": 43,
    "start_time": "2022-01-18T18:59:40.248Z"
   },
   {
    "duration": 48,
    "start_time": "2022-01-18T18:59:40.293Z"
   },
   {
    "duration": 31,
    "start_time": "2022-01-18T18:59:40.344Z"
   },
   {
    "duration": 3298,
    "start_time": "2022-01-18T18:59:40.378Z"
   },
   {
    "duration": 28,
    "start_time": "2022-01-18T18:59:43.678Z"
   },
   {
    "duration": 2938,
    "start_time": "2022-01-18T18:59:43.708Z"
   },
   {
    "duration": 11,
    "start_time": "2022-01-18T18:59:46.649Z"
   },
   {
    "duration": 75,
    "start_time": "2022-01-18T18:59:46.662Z"
   },
   {
    "duration": 36,
    "start_time": "2022-01-18T18:59:46.743Z"
   },
   {
    "duration": 50,
    "start_time": "2022-01-18T18:59:46.782Z"
   },
   {
    "duration": 40,
    "start_time": "2022-01-18T18:59:46.835Z"
   },
   {
    "duration": 60,
    "start_time": "2022-01-18T18:59:46.878Z"
   },
   {
    "duration": 41,
    "start_time": "2022-01-18T18:59:46.940Z"
   },
   {
    "duration": 260,
    "start_time": "2022-01-18T18:59:46.984Z"
   },
   {
    "duration": 51,
    "start_time": "2022-01-18T18:59:47.247Z"
   },
   {
    "duration": 1038,
    "start_time": "2022-01-18T18:59:47.301Z"
   },
   {
    "duration": 190,
    "start_time": "2022-01-18T18:59:48.342Z"
   },
   {
    "duration": 485,
    "start_time": "2022-01-18T18:59:48.536Z"
   },
   {
    "duration": 10,
    "start_time": "2022-01-18T18:59:49.023Z"
   },
   {
    "duration": 24,
    "start_time": "2022-01-18T18:59:49.036Z"
   },
   {
    "duration": 474,
    "start_time": "2022-01-18T18:59:49.062Z"
   },
   {
    "duration": 547,
    "start_time": "2022-01-18T18:59:49.541Z"
   },
   {
    "duration": 568,
    "start_time": "2022-01-18T18:59:50.091Z"
   },
   {
    "duration": 529,
    "start_time": "2022-01-18T18:59:50.662Z"
   },
   {
    "duration": 45,
    "start_time": "2022-01-18T18:59:51.193Z"
   },
   {
    "duration": 14,
    "start_time": "2022-01-18T18:59:51.241Z"
   },
   {
    "duration": 23,
    "start_time": "2022-01-18T18:59:51.257Z"
   }
  ],
  "kernelspec": {
   "display_name": "Python 3",
   "language": "python",
   "name": "python3"
  },
  "language_info": {
   "codemirror_mode": {
    "name": "ipython",
    "version": 3
   },
   "file_extension": ".py",
   "mimetype": "text/x-python",
   "name": "python",
   "nbconvert_exporter": "python",
   "pygments_lexer": "ipython3",
   "version": "3.7.8"
  },
  "toc": {
   "base_numbering": 1,
   "nav_menu": {},
   "number_sections": true,
   "sideBar": true,
   "skip_h1_title": true,
   "title_cell": "Table of Contents",
   "title_sidebar": "Contents",
   "toc_cell": false,
   "toc_position": {},
   "toc_section_display": true,
   "toc_window_display": false
  }
 },
 "nbformat": 4,
 "nbformat_minor": 2
}
